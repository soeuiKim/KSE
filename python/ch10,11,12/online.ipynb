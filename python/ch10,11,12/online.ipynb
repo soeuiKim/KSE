{
 "cells": [
  {
   "cell_type": "code",
   "execution_count": 3,
   "id": "fd8a2a20",
   "metadata": {},
   "outputs": [],
   "source": [
    "import pandas as pd\n",
    "import math"
   ]
  },
  {
   "cell_type": "code",
   "execution_count": 4,
   "id": "e8fc341d",
   "metadata": {},
   "outputs": [],
   "source": [
    "retail_df = pd.read_excel('./Online_Retail.xlsx')"
   ]
  },
  {
   "cell_type": "code",
   "execution_count": 5,
   "id": "11c7024f",
   "metadata": {},
   "outputs": [
    {
     "data": {
      "text/html": [
       "<div>\n",
       "<style scoped>\n",
       "    .dataframe tbody tr th:only-of-type {\n",
       "        vertical-align: middle;\n",
       "    }\n",
       "\n",
       "    .dataframe tbody tr th {\n",
       "        vertical-align: top;\n",
       "    }\n",
       "\n",
       "    .dataframe thead th {\n",
       "        text-align: right;\n",
       "    }\n",
       "</style>\n",
       "<table border=\"1\" class=\"dataframe\">\n",
       "  <thead>\n",
       "    <tr style=\"text-align: right;\">\n",
       "      <th></th>\n",
       "      <th>InvoiceNo</th>\n",
       "      <th>StockCode</th>\n",
       "      <th>Description</th>\n",
       "      <th>Quantity</th>\n",
       "      <th>InvoiceDate</th>\n",
       "      <th>UnitPrice</th>\n",
       "      <th>CustomerID</th>\n",
       "      <th>Country</th>\n",
       "    </tr>\n",
       "  </thead>\n",
       "  <tbody>\n",
       "    <tr>\n",
       "      <th>0</th>\n",
       "      <td>536365</td>\n",
       "      <td>85123A</td>\n",
       "      <td>WHITE HANGING HEART T-LIGHT HOLDER</td>\n",
       "      <td>6</td>\n",
       "      <td>2010-12-01 08:26:00</td>\n",
       "      <td>2.55</td>\n",
       "      <td>17850.0</td>\n",
       "      <td>United Kingdom</td>\n",
       "    </tr>\n",
       "    <tr>\n",
       "      <th>1</th>\n",
       "      <td>536365</td>\n",
       "      <td>71053</td>\n",
       "      <td>WHITE METAL LANTERN</td>\n",
       "      <td>6</td>\n",
       "      <td>2010-12-01 08:26:00</td>\n",
       "      <td>3.39</td>\n",
       "      <td>17850.0</td>\n",
       "      <td>United Kingdom</td>\n",
       "    </tr>\n",
       "    <tr>\n",
       "      <th>2</th>\n",
       "      <td>536365</td>\n",
       "      <td>84406B</td>\n",
       "      <td>CREAM CUPID HEARTS COAT HANGER</td>\n",
       "      <td>8</td>\n",
       "      <td>2010-12-01 08:26:00</td>\n",
       "      <td>2.75</td>\n",
       "      <td>17850.0</td>\n",
       "      <td>United Kingdom</td>\n",
       "    </tr>\n",
       "    <tr>\n",
       "      <th>3</th>\n",
       "      <td>536365</td>\n",
       "      <td>84029G</td>\n",
       "      <td>KNITTED UNION FLAG HOT WATER BOTTLE</td>\n",
       "      <td>6</td>\n",
       "      <td>2010-12-01 08:26:00</td>\n",
       "      <td>3.39</td>\n",
       "      <td>17850.0</td>\n",
       "      <td>United Kingdom</td>\n",
       "    </tr>\n",
       "    <tr>\n",
       "      <th>4</th>\n",
       "      <td>536365</td>\n",
       "      <td>84029E</td>\n",
       "      <td>RED WOOLLY HOTTIE WHITE HEART.</td>\n",
       "      <td>6</td>\n",
       "      <td>2010-12-01 08:26:00</td>\n",
       "      <td>3.39</td>\n",
       "      <td>17850.0</td>\n",
       "      <td>United Kingdom</td>\n",
       "    </tr>\n",
       "  </tbody>\n",
       "</table>\n",
       "</div>"
      ],
      "text/plain": [
       "  InvoiceNo StockCode                          Description  Quantity  \\\n",
       "0    536365    85123A   WHITE HANGING HEART T-LIGHT HOLDER         6   \n",
       "1    536365     71053                  WHITE METAL LANTERN         6   \n",
       "2    536365    84406B       CREAM CUPID HEARTS COAT HANGER         8   \n",
       "3    536365    84029G  KNITTED UNION FLAG HOT WATER BOTTLE         6   \n",
       "4    536365    84029E       RED WOOLLY HOTTIE WHITE HEART.         6   \n",
       "\n",
       "          InvoiceDate  UnitPrice  CustomerID         Country  \n",
       "0 2010-12-01 08:26:00       2.55     17850.0  United Kingdom  \n",
       "1 2010-12-01 08:26:00       3.39     17850.0  United Kingdom  \n",
       "2 2010-12-01 08:26:00       2.75     17850.0  United Kingdom  \n",
       "3 2010-12-01 08:26:00       3.39     17850.0  United Kingdom  \n",
       "4 2010-12-01 08:26:00       3.39     17850.0  United Kingdom  "
      ]
     },
     "execution_count": 5,
     "metadata": {},
     "output_type": "execute_result"
    }
   ],
   "source": [
    "retail_df.head()"
   ]
  },
  {
   "cell_type": "code",
   "execution_count": 6,
   "id": "b5856a10",
   "metadata": {},
   "outputs": [
    {
     "name": "stdout",
     "output_type": "stream",
     "text": [
      "<class 'pandas.core.frame.DataFrame'>\n",
      "RangeIndex: 541909 entries, 0 to 541908\n",
      "Data columns (total 8 columns):\n",
      " #   Column       Non-Null Count   Dtype         \n",
      "---  ------       --------------   -----         \n",
      " 0   InvoiceNo    541909 non-null  object        \n",
      " 1   StockCode    541909 non-null  object        \n",
      " 2   Description  540455 non-null  object        \n",
      " 3   Quantity     541909 non-null  int64         \n",
      " 4   InvoiceDate  541909 non-null  datetime64[ns]\n",
      " 5   UnitPrice    541909 non-null  float64       \n",
      " 6   CustomerID   406829 non-null  float64       \n",
      " 7   Country      541909 non-null  object        \n",
      "dtypes: datetime64[ns](1), float64(2), int64(1), object(4)\n",
      "memory usage: 33.1+ MB\n"
     ]
    }
   ],
   "source": [
    "retail_df.info()"
   ]
  },
  {
   "cell_type": "code",
   "execution_count": 7,
   "id": "d18abcce",
   "metadata": {},
   "outputs": [],
   "source": [
    "# 오류 데이터 정제\n",
    "# Quantity,UnitPrice 음수인것 제거\n",
    "# ID없는것 제거\n",
    "retail_df = retail_df[retail_df['Quantity']>0]\n",
    "retail_df = retail_df[retail_df['UnitPrice']>0]\n",
    "retail_df = retail_df[retail_df['CustomerID'].notnull()]"
   ]
  },
  {
   "cell_type": "code",
   "execution_count": 8,
   "id": "0fb9f90c",
   "metadata": {},
   "outputs": [],
   "source": [
    "#'CustomerID' 자료형을 정수형으로 변환\n",
    "retail_df['CustomerID'] = retail_df['CustomerID'].astype(int)"
   ]
  },
  {
   "cell_type": "code",
   "execution_count": 9,
   "id": "a2d6fb37",
   "metadata": {},
   "outputs": [
    {
     "name": "stdout",
     "output_type": "stream",
     "text": [
      "<class 'pandas.core.frame.DataFrame'>\n",
      "Int64Index: 397884 entries, 0 to 541908\n",
      "Data columns (total 8 columns):\n",
      " #   Column       Non-Null Count   Dtype         \n",
      "---  ------       --------------   -----         \n",
      " 0   InvoiceNo    397884 non-null  object        \n",
      " 1   StockCode    397884 non-null  object        \n",
      " 2   Description  397884 non-null  object        \n",
      " 3   Quantity     397884 non-null  int64         \n",
      " 4   InvoiceDate  397884 non-null  datetime64[ns]\n",
      " 5   UnitPrice    397884 non-null  float64       \n",
      " 6   CustomerID   397884 non-null  int32         \n",
      " 7   Country      397884 non-null  object        \n",
      "dtypes: datetime64[ns](1), float64(1), int32(1), int64(1), object(4)\n",
      "memory usage: 25.8+ MB\n"
     ]
    }
   ],
   "source": [
    "retail_df.info()"
   ]
  },
  {
   "cell_type": "code",
   "execution_count": 10,
   "id": "98d6c956",
   "metadata": {},
   "outputs": [
    {
     "name": "stdout",
     "output_type": "stream",
     "text": [
      "InvoiceNo      0\n",
      "StockCode      0\n",
      "Description    0\n",
      "Quantity       0\n",
      "InvoiceDate    0\n",
      "UnitPrice      0\n",
      "CustomerID     0\n",
      "Country        0\n",
      "dtype: int64\n",
      "(397884, 8)\n"
     ]
    }
   ],
   "source": [
    "print(retail_df.isnull().sum())\n",
    "print(retail_df.shape)"
   ]
  },
  {
   "cell_type": "code",
   "execution_count": 11,
   "id": "820b7ef1",
   "metadata": {},
   "outputs": [
    {
     "name": "stdout",
     "output_type": "stream",
     "text": [
      "(392692, 8)\n"
     ]
    }
   ],
   "source": [
    "#중복 레코드 제거\n",
    "retail_df.drop_duplicates(inplace = True)\n",
    "print(retail_df.shape) #작업 확인용 출력"
   ]
  },
  {
   "cell_type": "code",
   "execution_count": 12,
   "id": "2ad9cf59",
   "metadata": {},
   "outputs": [
    {
     "data": {
      "text/html": [
       "<div>\n",
       "<style scoped>\n",
       "    .dataframe tbody tr th:only-of-type {\n",
       "        vertical-align: middle;\n",
       "    }\n",
       "\n",
       "    .dataframe tbody tr th {\n",
       "        vertical-align: top;\n",
       "    }\n",
       "\n",
       "    .dataframe thead th {\n",
       "        text-align: right;\n",
       "    }\n",
       "</style>\n",
       "<table border=\"1\" class=\"dataframe\">\n",
       "  <thead>\n",
       "    <tr style=\"text-align: right;\">\n",
       "      <th></th>\n",
       "      <th>Product</th>\n",
       "      <th>Transaction</th>\n",
       "      <th>Customer</th>\n",
       "    </tr>\n",
       "  </thead>\n",
       "  <tbody>\n",
       "    <tr>\n",
       "      <th>counts</th>\n",
       "      <td>3665</td>\n",
       "      <td>18532</td>\n",
       "      <td>4338</td>\n",
       "    </tr>\n",
       "  </tbody>\n",
       "</table>\n",
       "</div>"
      ],
      "text/plain": [
       "        Product  Transaction  Customer\n",
       "counts     3665        18532      4338"
      ]
     },
     "execution_count": 12,
     "metadata": {},
     "output_type": "execute_result"
    }
   ],
   "source": [
    "pd.DataFrame([{'Product':len(retail_df['StockCode'].value_counts()),\n",
    "               'Transaction':len(retail_df['InvoiceNo'].value_counts()),\n",
    "               'Customer':len(retail_df['CustomerID'].value_counts())}],\n",
    "             columns = ['Product', 'Transaction','Customer'], index = ['counts'])"
   ]
  },
  {
   "cell_type": "code",
   "execution_count": 13,
   "id": "798cc601",
   "metadata": {},
   "outputs": [
    {
     "data": {
      "text/plain": [
       "United Kingdom          349203\n",
       "Germany                   9025\n",
       "France                    8326\n",
       "EIRE                      7226\n",
       "Spain                     2479\n",
       "Netherlands               2359\n",
       "Belgium                   2031\n",
       "Switzerland               1841\n",
       "Portugal                  1453\n",
       "Australia                 1181\n",
       "Norway                    1071\n",
       "Italy                      758\n",
       "Channel Islands            747\n",
       "Finland                    685\n",
       "Cyprus                     603\n",
       "Sweden                     450\n",
       "Austria                    398\n",
       "Denmark                    380\n",
       "Poland                     330\n",
       "Japan                      321\n",
       "Israel                     245\n",
       "Unspecified                241\n",
       "Singapore                  222\n",
       "Iceland                    182\n",
       "USA                        179\n",
       "Canada                     151\n",
       "Greece                     145\n",
       "Malta                      112\n",
       "United Arab Emirates        68\n",
       "European Community          60\n",
       "RSA                         57\n",
       "Lebanon                     45\n",
       "Lithuania                   35\n",
       "Brazil                      32\n",
       "Czech Republic              25\n",
       "Bahrain                     17\n",
       "Saudi Arabia                 9\n",
       "Name: Country, dtype: int64"
      ]
     },
     "execution_count": 13,
     "metadata": {},
     "output_type": "execute_result"
    }
   ],
   "source": [
    "retail_df['Country'].value_counts()"
   ]
  },
  {
   "cell_type": "code",
   "execution_count": 14,
   "id": "abad54ae",
   "metadata": {},
   "outputs": [
    {
     "data": {
      "text/html": [
       "<div>\n",
       "<style scoped>\n",
       "    .dataframe tbody tr th:only-of-type {\n",
       "        vertical-align: middle;\n",
       "    }\n",
       "\n",
       "    .dataframe tbody tr th {\n",
       "        vertical-align: top;\n",
       "    }\n",
       "\n",
       "    .dataframe thead th {\n",
       "        text-align: right;\n",
       "    }\n",
       "</style>\n",
       "<table border=\"1\" class=\"dataframe\">\n",
       "  <thead>\n",
       "    <tr style=\"text-align: right;\">\n",
       "      <th></th>\n",
       "      <th>InvoiceNo</th>\n",
       "      <th>StockCode</th>\n",
       "      <th>Description</th>\n",
       "      <th>Quantity</th>\n",
       "      <th>InvoiceDate</th>\n",
       "      <th>UnitPrice</th>\n",
       "      <th>CustomerID</th>\n",
       "      <th>Country</th>\n",
       "      <th>SaleAmount</th>\n",
       "    </tr>\n",
       "  </thead>\n",
       "  <tbody>\n",
       "    <tr>\n",
       "      <th>0</th>\n",
       "      <td>536365</td>\n",
       "      <td>85123A</td>\n",
       "      <td>WHITE HANGING HEART T-LIGHT HOLDER</td>\n",
       "      <td>6</td>\n",
       "      <td>2010-12-01 08:26:00</td>\n",
       "      <td>2.55</td>\n",
       "      <td>17850</td>\n",
       "      <td>United Kingdom</td>\n",
       "      <td>15.30</td>\n",
       "    </tr>\n",
       "    <tr>\n",
       "      <th>1</th>\n",
       "      <td>536365</td>\n",
       "      <td>71053</td>\n",
       "      <td>WHITE METAL LANTERN</td>\n",
       "      <td>6</td>\n",
       "      <td>2010-12-01 08:26:00</td>\n",
       "      <td>3.39</td>\n",
       "      <td>17850</td>\n",
       "      <td>United Kingdom</td>\n",
       "      <td>20.34</td>\n",
       "    </tr>\n",
       "    <tr>\n",
       "      <th>2</th>\n",
       "      <td>536365</td>\n",
       "      <td>84406B</td>\n",
       "      <td>CREAM CUPID HEARTS COAT HANGER</td>\n",
       "      <td>8</td>\n",
       "      <td>2010-12-01 08:26:00</td>\n",
       "      <td>2.75</td>\n",
       "      <td>17850</td>\n",
       "      <td>United Kingdom</td>\n",
       "      <td>22.00</td>\n",
       "    </tr>\n",
       "    <tr>\n",
       "      <th>3</th>\n",
       "      <td>536365</td>\n",
       "      <td>84029G</td>\n",
       "      <td>KNITTED UNION FLAG HOT WATER BOTTLE</td>\n",
       "      <td>6</td>\n",
       "      <td>2010-12-01 08:26:00</td>\n",
       "      <td>3.39</td>\n",
       "      <td>17850</td>\n",
       "      <td>United Kingdom</td>\n",
       "      <td>20.34</td>\n",
       "    </tr>\n",
       "    <tr>\n",
       "      <th>4</th>\n",
       "      <td>536365</td>\n",
       "      <td>84029E</td>\n",
       "      <td>RED WOOLLY HOTTIE WHITE HEART.</td>\n",
       "      <td>6</td>\n",
       "      <td>2010-12-01 08:26:00</td>\n",
       "      <td>3.39</td>\n",
       "      <td>17850</td>\n",
       "      <td>United Kingdom</td>\n",
       "      <td>20.34</td>\n",
       "    </tr>\n",
       "  </tbody>\n",
       "</table>\n",
       "</div>"
      ],
      "text/plain": [
       "  InvoiceNo StockCode                          Description  Quantity  \\\n",
       "0    536365    85123A   WHITE HANGING HEART T-LIGHT HOLDER         6   \n",
       "1    536365     71053                  WHITE METAL LANTERN         6   \n",
       "2    536365    84406B       CREAM CUPID HEARTS COAT HANGER         8   \n",
       "3    536365    84029G  KNITTED UNION FLAG HOT WATER BOTTLE         6   \n",
       "4    536365    84029E       RED WOOLLY HOTTIE WHITE HEART.         6   \n",
       "\n",
       "          InvoiceDate  UnitPrice  CustomerID         Country  SaleAmount  \n",
       "0 2010-12-01 08:26:00       2.55       17850  United Kingdom       15.30  \n",
       "1 2010-12-01 08:26:00       3.39       17850  United Kingdom       20.34  \n",
       "2 2010-12-01 08:26:00       2.75       17850  United Kingdom       22.00  \n",
       "3 2010-12-01 08:26:00       3.39       17850  United Kingdom       20.34  \n",
       "4 2010-12-01 08:26:00       3.39       17850  United Kingdom       20.34  "
      ]
     },
     "execution_count": 14,
     "metadata": {},
     "output_type": "execute_result"
    }
   ],
   "source": [
    "#주문 금액 컬럼 추가\n",
    "retail_df['SaleAmount'] = retail_df['UnitPrice']*retail_df['Quantity']\n",
    "retail_df.head() #작업 확인용 출력"
   ]
  },
  {
   "cell_type": "code",
   "execution_count": 15,
   "id": "aad31c3c",
   "metadata": {},
   "outputs": [],
   "source": [
    "aggregations = {\n",
    "    'InvoiceNo':'count',\n",
    "    'SaleAmount':'sum',\n",
    "    'InvoiceDate':'max'\n",
    "}"
   ]
  },
  {
   "cell_type": "code",
   "execution_count": 16,
   "id": "a8d57b8d",
   "metadata": {},
   "outputs": [
    {
     "data": {
      "text/html": [
       "<div>\n",
       "<style scoped>\n",
       "    .dataframe tbody tr th:only-of-type {\n",
       "        vertical-align: middle;\n",
       "    }\n",
       "\n",
       "    .dataframe tbody tr th {\n",
       "        vertical-align: top;\n",
       "    }\n",
       "\n",
       "    .dataframe thead th {\n",
       "        text-align: right;\n",
       "    }\n",
       "</style>\n",
       "<table border=\"1\" class=\"dataframe\">\n",
       "  <thead>\n",
       "    <tr style=\"text-align: right;\">\n",
       "      <th></th>\n",
       "      <th>CustomerID</th>\n",
       "      <th>InvoiceNo</th>\n",
       "      <th>SaleAmount</th>\n",
       "      <th>InvoiceDate</th>\n",
       "    </tr>\n",
       "  </thead>\n",
       "  <tbody>\n",
       "    <tr>\n",
       "      <th>0</th>\n",
       "      <td>12346</td>\n",
       "      <td>1</td>\n",
       "      <td>77183.60</td>\n",
       "      <td>2011-01-18 10:01:00</td>\n",
       "    </tr>\n",
       "    <tr>\n",
       "      <th>1</th>\n",
       "      <td>12347</td>\n",
       "      <td>182</td>\n",
       "      <td>4310.00</td>\n",
       "      <td>2011-12-07 15:52:00</td>\n",
       "    </tr>\n",
       "    <tr>\n",
       "      <th>2</th>\n",
       "      <td>12348</td>\n",
       "      <td>31</td>\n",
       "      <td>1797.24</td>\n",
       "      <td>2011-09-25 13:13:00</td>\n",
       "    </tr>\n",
       "    <tr>\n",
       "      <th>3</th>\n",
       "      <td>12349</td>\n",
       "      <td>73</td>\n",
       "      <td>1757.55</td>\n",
       "      <td>2011-11-21 09:51:00</td>\n",
       "    </tr>\n",
       "    <tr>\n",
       "      <th>4</th>\n",
       "      <td>12350</td>\n",
       "      <td>17</td>\n",
       "      <td>334.40</td>\n",
       "      <td>2011-02-02 16:01:00</td>\n",
       "    </tr>\n",
       "  </tbody>\n",
       "</table>\n",
       "</div>"
      ],
      "text/plain": [
       "   CustomerID  InvoiceNo  SaleAmount         InvoiceDate\n",
       "0       12346          1    77183.60 2011-01-18 10:01:00\n",
       "1       12347        182     4310.00 2011-12-07 15:52:00\n",
       "2       12348         31     1797.24 2011-09-25 13:13:00\n",
       "3       12349         73     1757.55 2011-11-21 09:51:00\n",
       "4       12350         17      334.40 2011-02-02 16:01:00"
      ]
     },
     "execution_count": 16,
     "metadata": {},
     "output_type": "execute_result"
    }
   ],
   "source": [
    "customer_df = retail_df.groupby('CustomerID').agg(aggregations)\n",
    "customer_df = customer_df.reset_index()\n",
    "customer_df.head() #작업 확인용 출력"
   ]
  },
  {
   "cell_type": "code",
   "execution_count": 17,
   "id": "e42ac076",
   "metadata": {},
   "outputs": [
    {
     "data": {
      "text/html": [
       "<div>\n",
       "<style scoped>\n",
       "    .dataframe tbody tr th:only-of-type {\n",
       "        vertical-align: middle;\n",
       "    }\n",
       "\n",
       "    .dataframe tbody tr th {\n",
       "        vertical-align: top;\n",
       "    }\n",
       "\n",
       "    .dataframe thead th {\n",
       "        text-align: right;\n",
       "    }\n",
       "</style>\n",
       "<table border=\"1\" class=\"dataframe\">\n",
       "  <thead>\n",
       "    <tr style=\"text-align: right;\">\n",
       "      <th></th>\n",
       "      <th>CustomerID</th>\n",
       "      <th>Freq</th>\n",
       "      <th>SaleAmount</th>\n",
       "      <th>ElapsedDays</th>\n",
       "    </tr>\n",
       "  </thead>\n",
       "  <tbody>\n",
       "    <tr>\n",
       "      <th>0</th>\n",
       "      <td>12346</td>\n",
       "      <td>1</td>\n",
       "      <td>77183.60</td>\n",
       "      <td>2011-01-18 10:01:00</td>\n",
       "    </tr>\n",
       "    <tr>\n",
       "      <th>1</th>\n",
       "      <td>12347</td>\n",
       "      <td>182</td>\n",
       "      <td>4310.00</td>\n",
       "      <td>2011-12-07 15:52:00</td>\n",
       "    </tr>\n",
       "    <tr>\n",
       "      <th>2</th>\n",
       "      <td>12348</td>\n",
       "      <td>31</td>\n",
       "      <td>1797.24</td>\n",
       "      <td>2011-09-25 13:13:00</td>\n",
       "    </tr>\n",
       "    <tr>\n",
       "      <th>3</th>\n",
       "      <td>12349</td>\n",
       "      <td>73</td>\n",
       "      <td>1757.55</td>\n",
       "      <td>2011-11-21 09:51:00</td>\n",
       "    </tr>\n",
       "    <tr>\n",
       "      <th>4</th>\n",
       "      <td>12350</td>\n",
       "      <td>17</td>\n",
       "      <td>334.40</td>\n",
       "      <td>2011-02-02 16:01:00</td>\n",
       "    </tr>\n",
       "  </tbody>\n",
       "</table>\n",
       "</div>"
      ],
      "text/plain": [
       "   CustomerID  Freq  SaleAmount         ElapsedDays\n",
       "0       12346     1    77183.60 2011-01-18 10:01:00\n",
       "1       12347   182     4310.00 2011-12-07 15:52:00\n",
       "2       12348    31     1797.24 2011-09-25 13:13:00\n",
       "3       12349    73     1757.55 2011-11-21 09:51:00\n",
       "4       12350    17      334.40 2011-02-02 16:01:00"
      ]
     },
     "execution_count": 17,
     "metadata": {},
     "output_type": "execute_result"
    }
   ],
   "source": [
    "customer_df = customer_df.rename(columns = {'InvoiceNo':'Freq','InvoiceDate':'ElapsedDays'})\n",
    "customer_df.head()"
   ]
  },
  {
   "cell_type": "code",
   "execution_count": 18,
   "id": "f33ede02",
   "metadata": {},
   "outputs": [],
   "source": [
    "import datetime"
   ]
  },
  {
   "cell_type": "code",
   "execution_count": 19,
   "id": "a54a92f1",
   "metadata": {},
   "outputs": [],
   "source": [
    "#마케팅에 이용하기 위해 고객의 주문 횟수, 주문 총액, \n",
    "#마지막 주문 후 며칠이 지났는지에 대한 정보를 추출\n",
    "customer_df['ElapsedDays'] = datetime.datetime(2011,12,10) - customer_df['ElapsedDays']"
   ]
  },
  {
   "cell_type": "code",
   "execution_count": 20,
   "id": "73d5f999",
   "metadata": {},
   "outputs": [
    {
     "data": {
      "text/html": [
       "<div>\n",
       "<style scoped>\n",
       "    .dataframe tbody tr th:only-of-type {\n",
       "        vertical-align: middle;\n",
       "    }\n",
       "\n",
       "    .dataframe tbody tr th {\n",
       "        vertical-align: top;\n",
       "    }\n",
       "\n",
       "    .dataframe thead th {\n",
       "        text-align: right;\n",
       "    }\n",
       "</style>\n",
       "<table border=\"1\" class=\"dataframe\">\n",
       "  <thead>\n",
       "    <tr style=\"text-align: right;\">\n",
       "      <th></th>\n",
       "      <th>CustomerID</th>\n",
       "      <th>Freq</th>\n",
       "      <th>SaleAmount</th>\n",
       "      <th>ElapsedDays</th>\n",
       "    </tr>\n",
       "  </thead>\n",
       "  <tbody>\n",
       "    <tr>\n",
       "      <th>0</th>\n",
       "      <td>12346</td>\n",
       "      <td>1</td>\n",
       "      <td>77183.60</td>\n",
       "      <td>325 days 13:59:00</td>\n",
       "    </tr>\n",
       "    <tr>\n",
       "      <th>1</th>\n",
       "      <td>12347</td>\n",
       "      <td>182</td>\n",
       "      <td>4310.00</td>\n",
       "      <td>2 days 08:08:00</td>\n",
       "    </tr>\n",
       "    <tr>\n",
       "      <th>2</th>\n",
       "      <td>12348</td>\n",
       "      <td>31</td>\n",
       "      <td>1797.24</td>\n",
       "      <td>75 days 10:47:00</td>\n",
       "    </tr>\n",
       "    <tr>\n",
       "      <th>3</th>\n",
       "      <td>12349</td>\n",
       "      <td>73</td>\n",
       "      <td>1757.55</td>\n",
       "      <td>18 days 14:09:00</td>\n",
       "    </tr>\n",
       "    <tr>\n",
       "      <th>4</th>\n",
       "      <td>12350</td>\n",
       "      <td>17</td>\n",
       "      <td>334.40</td>\n",
       "      <td>310 days 07:59:00</td>\n",
       "    </tr>\n",
       "  </tbody>\n",
       "</table>\n",
       "</div>"
      ],
      "text/plain": [
       "   CustomerID  Freq  SaleAmount       ElapsedDays\n",
       "0       12346     1    77183.60 325 days 13:59:00\n",
       "1       12347   182     4310.00   2 days 08:08:00\n",
       "2       12348    31     1797.24  75 days 10:47:00\n",
       "3       12349    73     1757.55  18 days 14:09:00\n",
       "4       12350    17      334.40 310 days 07:59:00"
      ]
     },
     "execution_count": 20,
     "metadata": {},
     "output_type": "execute_result"
    }
   ],
   "source": [
    "customer_df.head()"
   ]
  },
  {
   "cell_type": "code",
   "execution_count": 21,
   "id": "1bf2c3a2",
   "metadata": {},
   "outputs": [
    {
     "data": {
      "text/html": [
       "<div>\n",
       "<style scoped>\n",
       "    .dataframe tbody tr th:only-of-type {\n",
       "        vertical-align: middle;\n",
       "    }\n",
       "\n",
       "    .dataframe tbody tr th {\n",
       "        vertical-align: top;\n",
       "    }\n",
       "\n",
       "    .dataframe thead th {\n",
       "        text-align: right;\n",
       "    }\n",
       "</style>\n",
       "<table border=\"1\" class=\"dataframe\">\n",
       "  <thead>\n",
       "    <tr style=\"text-align: right;\">\n",
       "      <th></th>\n",
       "      <th>CustomerID</th>\n",
       "      <th>Freq</th>\n",
       "      <th>SaleAmount</th>\n",
       "      <th>ElapsedDays</th>\n",
       "    </tr>\n",
       "  </thead>\n",
       "  <tbody>\n",
       "    <tr>\n",
       "      <th>0</th>\n",
       "      <td>12346</td>\n",
       "      <td>1</td>\n",
       "      <td>77183.60</td>\n",
       "      <td>326</td>\n",
       "    </tr>\n",
       "    <tr>\n",
       "      <th>1</th>\n",
       "      <td>12347</td>\n",
       "      <td>182</td>\n",
       "      <td>4310.00</td>\n",
       "      <td>3</td>\n",
       "    </tr>\n",
       "    <tr>\n",
       "      <th>2</th>\n",
       "      <td>12348</td>\n",
       "      <td>31</td>\n",
       "      <td>1797.24</td>\n",
       "      <td>76</td>\n",
       "    </tr>\n",
       "    <tr>\n",
       "      <th>3</th>\n",
       "      <td>12349</td>\n",
       "      <td>73</td>\n",
       "      <td>1757.55</td>\n",
       "      <td>19</td>\n",
       "    </tr>\n",
       "    <tr>\n",
       "      <th>4</th>\n",
       "      <td>12350</td>\n",
       "      <td>17</td>\n",
       "      <td>334.40</td>\n",
       "      <td>311</td>\n",
       "    </tr>\n",
       "  </tbody>\n",
       "</table>\n",
       "</div>"
      ],
      "text/plain": [
       "   CustomerID  Freq  SaleAmount  ElapsedDays\n",
       "0       12346     1    77183.60          326\n",
       "1       12347   182     4310.00            3\n",
       "2       12348    31     1797.24           76\n",
       "3       12349    73     1757.55           19\n",
       "4       12350    17      334.40          311"
      ]
     },
     "execution_count": 21,
     "metadata": {},
     "output_type": "execute_result"
    }
   ],
   "source": [
    "#  마지막 구매 후 몇 일이 지났는지를 날짜수로 환산하여 ElapsedDays 값을 구함\n",
    "customer_df['ElapsedDays'] = customer_df['ElapsedDays'].apply(lambda x: x.days+1)\n",
    "customer_df.head()"
   ]
  },
  {
   "cell_type": "code",
   "execution_count": 22,
   "id": "7f539818",
   "metadata": {},
   "outputs": [],
   "source": [
    "import matplotlib.pyplot as plt\n",
    "import seaborn as sns"
   ]
  },
  {
   "cell_type": "code",
   "execution_count": 23,
   "id": "0a3e638a",
   "metadata": {},
   "outputs": [
    {
     "data": {
      "image/png": "[encoded data removed]",
      "text/plain": [
       "<Figure size 432x288 with 1 Axes>"
      ]
     },
     "metadata": {
      "needs_background": "light"
     },
     "output_type": "display_data"
    }
   ],
   "source": [
    "fig, ax = plt.subplots()\n",
    "ax.boxplot([customer_df['Freq'], customer_df['SaleAmount'], customer_df['ElapsedDays']], sym = 'bo')\n",
    "plt.xticks([1, 2, 3], ['Freq', 'SaleAmount','ElapsedDays'])\n",
    "plt.show()"
   ]
  },
  {
   "cell_type": "code",
   "execution_count": 24,
   "id": "f9611f77",
   "metadata": {},
   "outputs": [],
   "source": [
    "import numpy as np"
   ]
  },
  {
   "cell_type": "code",
   "execution_count": 25,
   "id": "0fbf6d7b",
   "metadata": {},
   "outputs": [
    {
     "data": {
      "text/html": [
       "<div>\n",
       "<style scoped>\n",
       "    .dataframe tbody tr th:only-of-type {\n",
       "        vertical-align: middle;\n",
       "    }\n",
       "\n",
       "    .dataframe tbody tr th {\n",
       "        vertical-align: top;\n",
       "    }\n",
       "\n",
       "    .dataframe thead th {\n",
       "        text-align: right;\n",
       "    }\n",
       "</style>\n",
       "<table border=\"1\" class=\"dataframe\">\n",
       "  <thead>\n",
       "    <tr style=\"text-align: right;\">\n",
       "      <th></th>\n",
       "      <th>CustomerID</th>\n",
       "      <th>Freq</th>\n",
       "      <th>SaleAmount</th>\n",
       "      <th>ElapsedDays</th>\n",
       "      <th>Freq_log</th>\n",
       "      <th>SaleAmount_log</th>\n",
       "      <th>ElapsedDays_log</th>\n",
       "    </tr>\n",
       "  </thead>\n",
       "  <tbody>\n",
       "    <tr>\n",
       "      <th>0</th>\n",
       "      <td>12346</td>\n",
       "      <td>1</td>\n",
       "      <td>77183.60</td>\n",
       "      <td>326</td>\n",
       "      <td>0.693147</td>\n",
       "      <td>11.253955</td>\n",
       "      <td>5.789960</td>\n",
       "    </tr>\n",
       "    <tr>\n",
       "      <th>1</th>\n",
       "      <td>12347</td>\n",
       "      <td>182</td>\n",
       "      <td>4310.00</td>\n",
       "      <td>3</td>\n",
       "      <td>5.209486</td>\n",
       "      <td>8.368925</td>\n",
       "      <td>1.386294</td>\n",
       "    </tr>\n",
       "    <tr>\n",
       "      <th>2</th>\n",
       "      <td>12348</td>\n",
       "      <td>31</td>\n",
       "      <td>1797.24</td>\n",
       "      <td>76</td>\n",
       "      <td>3.465736</td>\n",
       "      <td>7.494564</td>\n",
       "      <td>4.343805</td>\n",
       "    </tr>\n",
       "    <tr>\n",
       "      <th>3</th>\n",
       "      <td>12349</td>\n",
       "      <td>73</td>\n",
       "      <td>1757.55</td>\n",
       "      <td>19</td>\n",
       "      <td>4.304065</td>\n",
       "      <td>7.472245</td>\n",
       "      <td>2.995732</td>\n",
       "    </tr>\n",
       "    <tr>\n",
       "      <th>4</th>\n",
       "      <td>12350</td>\n",
       "      <td>17</td>\n",
       "      <td>334.40</td>\n",
       "      <td>311</td>\n",
       "      <td>2.890372</td>\n",
       "      <td>5.815324</td>\n",
       "      <td>5.743003</td>\n",
       "    </tr>\n",
       "  </tbody>\n",
       "</table>\n",
       "</div>"
      ],
      "text/plain": [
       "   CustomerID  Freq  SaleAmount  ElapsedDays  Freq_log  SaleAmount_log  \\\n",
       "0       12346     1    77183.60          326  0.693147       11.253955   \n",
       "1       12347   182     4310.00            3  5.209486        8.368925   \n",
       "2       12348    31     1797.24           76  3.465736        7.494564   \n",
       "3       12349    73     1757.55           19  4.304065        7.472245   \n",
       "4       12350    17      334.40          311  2.890372        5.815324   \n",
       "\n",
       "   ElapsedDays_log  \n",
       "0         5.789960  \n",
       "1         1.386294  \n",
       "2         4.343805  \n",
       "3         2.995732  \n",
       "4         5.743003  "
      ]
     },
     "execution_count": 25,
     "metadata": {},
     "output_type": "execute_result"
    }
   ],
   "source": [
    "customer_df['Freq_log'] = np.log1p(customer_df['Freq'])\n",
    "customer_df['SaleAmount_log'] = np.log1p(customer_df['SaleAmount'])\n",
    "customer_df['ElapsedDays_log'] = np.log1p(customer_df['ElapsedDays'])\n",
    "customer_df.head()"
   ]
  },
  {
   "cell_type": "code",
   "execution_count": 27,
   "id": "3bc9654e",
   "metadata": {},
   "outputs": [
    {
     "data": {
      "image/png": "[encoded data removed]",
      "text/plain": [
       "<Figure size 432x288 with 1 Axes>"
      ]
     },
     "metadata": {
      "needs_background": "light"
     },
     "output_type": "display_data"
    }
   ],
   "source": [
    "fig, ax = plt.subplots()\n",
    "ax.boxplot([customer_df['Freq_log'], customer_df['SaleAmount_log'], customer_df['ElapsedDays_log']], sym = 'bo')\n",
    "plt.xticks([1, 2, 3], ['Freq_log', 'SaleAmount_log', 'ElapsedDays_log'])\n",
    "plt.show()"
   ]
  },
  {
   "cell_type": "code",
   "execution_count": null,
   "id": "1d0a7fc1",
   "metadata": {},
   "outputs": [],
   "source": []
  },
  {
   "cell_type": "code",
   "execution_count": null,
   "id": "62ad3aa3",
   "metadata": {},
   "outputs": [],
   "source": [
    "# k-평균 군집화 모델이용 분석모델 구축"
   ]
  },
  {
   "cell_type": "code",
   "execution_count": null,
   "id": "055a63b2",
   "metadata": {},
   "outputs": [],
   "source": [
    "# x_features를 정규분포로 스케일링"
   ]
  },
  {
   "cell_type": "code",
   "execution_count": 30,
   "id": "6681ca87",
   "metadata": {},
   "outputs": [],
   "source": [
    "from sklearn.cluster import KMeans\n",
    "from sklearn.metrics import silhouette_score, silhouette_samples\n",
    "from sklearn.preprocessing import StandardScaler"
   ]
  },
  {
   "cell_type": "code",
   "execution_count": 31,
   "id": "4023b8a5",
   "metadata": {},
   "outputs": [],
   "source": [
    "X_features = customer_df[['Freq_log', 'SaleAmount_log', 'ElapsedDays_log']].values"
   ]
  },
  {
   "cell_type": "code",
   "execution_count": 32,
   "id": "b5bfc678",
   "metadata": {},
   "outputs": [],
   "source": [
    "X_features_scaled = StandardScaler().fit_transform(X_features)"
   ]
  },
  {
   "cell_type": "code",
   "execution_count": null,
   "id": "1382dd37",
   "metadata": {},
   "outputs": [],
   "source": []
  },
  {
   "cell_type": "code",
   "execution_count": null,
   "id": "b4578734",
   "metadata": {},
   "outputs": [],
   "source": [
    "# 엘보 방법으로 클러스터 개수 k 선택"
   ]
  },
  {
   "cell_type": "code",
   "execution_count": null,
   "id": "8625c1c7",
   "metadata": {},
   "outputs": [],
   "source": []
  },
  {
   "cell_type": "code",
   "execution_count": 34,
   "id": "622cf5c4",
   "metadata": {},
   "outputs": [
    {
     "data": {
      "image/png": "[encoded data removed]",
      "text/plain": [
       "<Figure size 432x288 with 1 Axes>"
      ]
     },
     "metadata": {
      "needs_background": "light"
     },
     "output_type": "display_data"
    }
   ],
   "source": [
    "distortions = []\n",
    "\n",
    "for i in range(1, 11):\n",
    "    kmeans_i = KMeans(n_clusters = i, random_state = 0) #모델 생성\n",
    "    kmeans_i.fit(X_features_scaled) #모델 훈련\n",
    "    distortions.append(kmeans_i.inertia_)\n",
    "\n",
    "plt.plot(range(1,11), distortions, marker = 'o')\n",
    "plt.xlabel('Number of clusters')\n",
    "plt.ylabel('Distortion')\n",
    "plt.show()"
   ]
  },
  {
   "cell_type": "code",
   "execution_count": null,
   "id": "23a7012f",
   "metadata": {},
   "outputs": [],
   "source": []
  },
  {
   "cell_type": "code",
   "execution_count": null,
   "id": "8bf12102",
   "metadata": {},
   "outputs": [],
   "source": [
    "# 클러스터의 개수 k를 3으로 설정하여  \n",
    "# K-평균 모델을 다시 구축한 뒤 모델에서 만든 클러스터 레이블을 확인"
   ]
  },
  {
   "cell_type": "code",
   "execution_count": null,
   "id": "77ca4813",
   "metadata": {},
   "outputs": [],
   "source": []
  },
  {
   "cell_type": "code",
   "execution_count": 169,
   "id": "85ae6688",
   "metadata": {},
   "outputs": [],
   "source": [
    "kmeans = KMeans(n_clusters=4, random_state=0) #모델 생성\n",
    "#모델 학습과 결과 예측(클러스터 레이블 생성)\n",
    "Y_labels = kmeans.fit_predict(X_features_scaled)"
   ]
  },
  {
   "cell_type": "code",
   "execution_count": 170,
   "id": "7d28e8e7",
   "metadata": {},
   "outputs": [
    {
     "data": {
      "text/html": [
       "<div>\n",
       "<style scoped>\n",
       "    .dataframe tbody tr th:only-of-type {\n",
       "        vertical-align: middle;\n",
       "    }\n",
       "\n",
       "    .dataframe tbody tr th {\n",
       "        vertical-align: top;\n",
       "    }\n",
       "\n",
       "    .dataframe thead th {\n",
       "        text-align: right;\n",
       "    }\n",
       "</style>\n",
       "<table border=\"1\" class=\"dataframe\">\n",
       "  <thead>\n",
       "    <tr style=\"text-align: right;\">\n",
       "      <th></th>\n",
       "      <th>CustomerID</th>\n",
       "      <th>Freq</th>\n",
       "      <th>SaleAmount</th>\n",
       "      <th>ElapsedDays</th>\n",
       "      <th>Freq_log</th>\n",
       "      <th>SaleAmount_log</th>\n",
       "      <th>ElapsedDays_log</th>\n",
       "      <th>ClusterLabel</th>\n",
       "    </tr>\n",
       "  </thead>\n",
       "  <tbody>\n",
       "    <tr>\n",
       "      <th>0</th>\n",
       "      <td>12346</td>\n",
       "      <td>1</td>\n",
       "      <td>77183.60</td>\n",
       "      <td>326</td>\n",
       "      <td>0.693147</td>\n",
       "      <td>11.253955</td>\n",
       "      <td>5.789960</td>\n",
       "      <td>1</td>\n",
       "    </tr>\n",
       "    <tr>\n",
       "      <th>1</th>\n",
       "      <td>12347</td>\n",
       "      <td>182</td>\n",
       "      <td>4310.00</td>\n",
       "      <td>3</td>\n",
       "      <td>5.209486</td>\n",
       "      <td>8.368925</td>\n",
       "      <td>1.386294</td>\n",
       "      <td>3</td>\n",
       "    </tr>\n",
       "    <tr>\n",
       "      <th>2</th>\n",
       "      <td>12348</td>\n",
       "      <td>31</td>\n",
       "      <td>1797.24</td>\n",
       "      <td>76</td>\n",
       "      <td>3.465736</td>\n",
       "      <td>7.494564</td>\n",
       "      <td>4.343805</td>\n",
       "      <td>1</td>\n",
       "    </tr>\n",
       "    <tr>\n",
       "      <th>3</th>\n",
       "      <td>12349</td>\n",
       "      <td>73</td>\n",
       "      <td>1757.55</td>\n",
       "      <td>19</td>\n",
       "      <td>4.304065</td>\n",
       "      <td>7.472245</td>\n",
       "      <td>2.995732</td>\n",
       "      <td>1</td>\n",
       "    </tr>\n",
       "    <tr>\n",
       "      <th>4</th>\n",
       "      <td>12350</td>\n",
       "      <td>17</td>\n",
       "      <td>334.40</td>\n",
       "      <td>311</td>\n",
       "      <td>2.890372</td>\n",
       "      <td>5.815324</td>\n",
       "      <td>5.743003</td>\n",
       "      <td>2</td>\n",
       "    </tr>\n",
       "  </tbody>\n",
       "</table>\n",
       "</div>"
      ],
      "text/plain": [
       "   CustomerID  Freq  SaleAmount  ElapsedDays  Freq_log  SaleAmount_log  \\\n",
       "0       12346     1    77183.60          326  0.693147       11.253955   \n",
       "1       12347   182     4310.00            3  5.209486        8.368925   \n",
       "2       12348    31     1797.24           76  3.465736        7.494564   \n",
       "3       12349    73     1757.55           19  4.304065        7.472245   \n",
       "4       12350    17      334.40          311  2.890372        5.815324   \n",
       "\n",
       "   ElapsedDays_log  ClusterLabel  \n",
       "0         5.789960             1  \n",
       "1         1.386294             3  \n",
       "2         4.343805             1  \n",
       "3         2.995732             1  \n",
       "4         5.743003             2  "
      ]
     },
     "execution_count": 170,
     "metadata": {},
     "output_type": "execute_result"
    }
   ],
   "source": [
    "customer_df['ClusterLabel'] = Y_labels\n",
    "customer_df.head()"
   ]
  },
  {
   "cell_type": "code",
   "execution_count": null,
   "id": "188f9470",
   "metadata": {},
   "outputs": [],
   "source": []
  },
  {
   "cell_type": "code",
   "execution_count": 171,
   "id": "5047844e",
   "metadata": {},
   "outputs": [],
   "source": [
    "# 결과 분석 및 시각화"
   ]
  },
  {
   "cell_type": "code",
   "execution_count": null,
   "id": "74538329",
   "metadata": {},
   "outputs": [],
   "source": []
  },
  {
   "cell_type": "code",
   "execution_count": 172,
   "id": "afb222af",
   "metadata": {},
   "outputs": [],
   "source": [
    "from matplotlib import cm"
   ]
  },
  {
   "cell_type": "code",
   "execution_count": 173,
   "id": "b365e21d",
   "metadata": {},
   "outputs": [],
   "source": [
    "def silhouetteViz(n_cluster, X_features):\n",
    "    kmeans = KMeans(n_clusters = n_cluster, random_state = 0)\n",
    "    Y_labels = kmeans.fit_predict(X_features)\n",
    "\n",
    "    silhouette_values = silhouette_samples(X_features, Y_labels, metric = 'euclidean')\n",
    "                                       \n",
    "    y_ax_lower, y_ax_upper = 0, 0\n",
    "    y_ticks = []\n",
    "                                       \n",
    "    for c in range(n_cluster):\n",
    "        c_silhouettes = silhouette_values[Y_labels == c]\n",
    "        c_silhouettes.sort()\n",
    "        y_ax_upper += len(c_silhouettes)\n",
    "        color = cm.jet(float(c) / n_cluster)\n",
    "        plt.barh(range(y_ax_lower, y_ax_upper), c_silhouettes, height = 1.0, edgecolor = 'none', color = color)\n",
    "        y_ticks.append((y_ax_lower + y_ax_upper) / 2.)\n",
    "        y_ax_lower += len(c_silhouettes)\n",
    "                                       \n",
    "    silhouette_avg = np.mean(silhouette_values)\n",
    "    plt.axvline(silhouette_avg, color = 'red', linestyle = '--')\n",
    "    plt.title('Number of Cluster : '+ str(n_cluster) + '\\n' + 'Silhouette Score : '+ str(round(silhouette_avg,3)))\n",
    "    plt.yticks(y_ticks, range(n_cluster))\n",
    "    plt.xticks([0, 0.2, 0.4, 0.6, 0.8, 1])\n",
    "    plt.ylabel('Cluster')\n",
    "    plt.xlabel('Silhouette coefficient')\n",
    "    plt.tight_layout()\n",
    "    plt.show()"
   ]
  },
  {
   "cell_type": "code",
   "execution_count": 174,
   "id": "8aa3c339",
   "metadata": {},
   "outputs": [],
   "source": [
    "def clusterScatter(n_cluster, X_features):\n",
    "    c_colors = []\n",
    "    kmeans = KMeans(n_clusters = n_cluster, random_state = 0)\n",
    "    Y_labels = kmeans.fit_predict(X_features)\n",
    "    \n",
    "    for i in range(n_cluster):\n",
    "        c_color = cm.jet(float(i) / n_cluster) #클러스터의 색상 설정\n",
    "        c_colors.append(c_color)\n",
    "        #클러스터의 데이터 분포를 동그라미로 시각화\n",
    "        plt.scatter(X_features[Y_labels == i,0], X_features[Y_labels == i,1], marker = 'o', \n",
    "                    color = c_color, edgecolor = 'black', s = 50, label = 'cluster '+ str(i))    \n",
    "    #각 클러스터의 중심점을 삼각형으로 표시\n",
    "    for i in range(n_cluster):\n",
    "        plt.scatter(kmeans.cluster_centers_[i,0], kmeans.cluster_centers_[i,1],\n",
    "                    marker = '^', color = c_colors[i], edgecolor = 'w', s = 200)\n",
    "    plt.legend()\n",
    "    plt.grid()\n",
    "    plt.tight_layout()\n",
    "    plt.show()"
   ]
  },
  {
   "cell_type": "code",
   "execution_count": 175,
   "id": "12be66ae",
   "metadata": {},
   "outputs": [],
   "source": [
    "#silhouetteViz(3, X_features_scaled)"
   ]
  },
  {
   "cell_type": "code",
   "execution_count": 176,
   "id": "762fbbe2",
   "metadata": {},
   "outputs": [],
   "source": [
    "#silhouetteViz(4, X_features_scaled)"
   ]
  },
  {
   "cell_type": "code",
   "execution_count": 177,
   "id": "34d02da7",
   "metadata": {},
   "outputs": [],
   "source": [
    "#silhouetteViz(5, X_features_scaled)"
   ]
  },
  {
   "cell_type": "code",
   "execution_count": 178,
   "id": "e2cf9553",
   "metadata": {},
   "outputs": [],
   "source": [
    "#silhouetteViz(6, X_features_scaled)"
   ]
  },
  {
   "cell_type": "code",
   "execution_count": 179,
   "id": "37accc66",
   "metadata": {
    "scrolled": true
   },
   "outputs": [
    {
     "data": {
      "image/png": "[encoded data removed]",
      "text/plain": [
       "<Figure size 432x288 with 1 Axes>"
      ]
     },
     "metadata": {
      "needs_background": "light"
     },
     "output_type": "display_data"
    }
   ],
   "source": [
    "clusterScatter(3, X_features_scaled)"
   ]
  },
  {
   "cell_type": "code",
   "execution_count": 180,
   "id": "be532eec",
   "metadata": {},
   "outputs": [],
   "source": [
    "#clusterScatter(4, X_features_scaled)"
   ]
  },
  {
   "cell_type": "code",
   "execution_count": 181,
   "id": "589491b2",
   "metadata": {},
   "outputs": [],
   "source": [
    "#clusterScatter(5, X_features_scaled)"
   ]
  },
  {
   "cell_type": "code",
   "execution_count": 182,
   "id": "5c53fe56",
   "metadata": {},
   "outputs": [],
   "source": [
    "#clusterScatter(6, X_features_scaled)"
   ]
  },
  {
   "cell_type": "code",
   "execution_count": null,
   "id": "ef16c112",
   "metadata": {},
   "outputs": [],
   "source": []
  },
  {
   "cell_type": "code",
   "execution_count": 183,
   "id": "7cf72288",
   "metadata": {},
   "outputs": [],
   "source": [
    "best_cluster = 4\n",
    "Kmeans = KMeans(n_clusters = best_cluster, random_state = 0)\n",
    "Y_labels = kmeans.fit_predict(X_features_scaled)"
   ]
  },
  {
   "cell_type": "code",
   "execution_count": 184,
   "id": "f92fcc45",
   "metadata": {},
   "outputs": [
    {
     "data": {
      "text/html": [
       "<div>\n",
       "<style scoped>\n",
       "    .dataframe tbody tr th:only-of-type {\n",
       "        vertical-align: middle;\n",
       "    }\n",
       "\n",
       "    .dataframe tbody tr th {\n",
       "        vertical-align: top;\n",
       "    }\n",
       "\n",
       "    .dataframe thead th {\n",
       "        text-align: right;\n",
       "    }\n",
       "</style>\n",
       "<table border=\"1\" class=\"dataframe\">\n",
       "  <thead>\n",
       "    <tr style=\"text-align: right;\">\n",
       "      <th></th>\n",
       "      <th>CustomerID</th>\n",
       "      <th>Freq</th>\n",
       "      <th>SaleAmount</th>\n",
       "      <th>ElapsedDays</th>\n",
       "      <th>Freq_log</th>\n",
       "      <th>SaleAmount_log</th>\n",
       "      <th>ElapsedDays_log</th>\n",
       "      <th>ClusterLabel</th>\n",
       "    </tr>\n",
       "  </thead>\n",
       "  <tbody>\n",
       "    <tr>\n",
       "      <th>0</th>\n",
       "      <td>12346</td>\n",
       "      <td>1</td>\n",
       "      <td>77183.60</td>\n",
       "      <td>326</td>\n",
       "      <td>0.693147</td>\n",
       "      <td>11.253955</td>\n",
       "      <td>5.789960</td>\n",
       "      <td>1</td>\n",
       "    </tr>\n",
       "    <tr>\n",
       "      <th>1</th>\n",
       "      <td>12347</td>\n",
       "      <td>182</td>\n",
       "      <td>4310.00</td>\n",
       "      <td>3</td>\n",
       "      <td>5.209486</td>\n",
       "      <td>8.368925</td>\n",
       "      <td>1.386294</td>\n",
       "      <td>3</td>\n",
       "    </tr>\n",
       "    <tr>\n",
       "      <th>2</th>\n",
       "      <td>12348</td>\n",
       "      <td>31</td>\n",
       "      <td>1797.24</td>\n",
       "      <td>76</td>\n",
       "      <td>3.465736</td>\n",
       "      <td>7.494564</td>\n",
       "      <td>4.343805</td>\n",
       "      <td>1</td>\n",
       "    </tr>\n",
       "    <tr>\n",
       "      <th>3</th>\n",
       "      <td>12349</td>\n",
       "      <td>73</td>\n",
       "      <td>1757.55</td>\n",
       "      <td>19</td>\n",
       "      <td>4.304065</td>\n",
       "      <td>7.472245</td>\n",
       "      <td>2.995732</td>\n",
       "      <td>1</td>\n",
       "    </tr>\n",
       "    <tr>\n",
       "      <th>4</th>\n",
       "      <td>12350</td>\n",
       "      <td>17</td>\n",
       "      <td>334.40</td>\n",
       "      <td>311</td>\n",
       "      <td>2.890372</td>\n",
       "      <td>5.815324</td>\n",
       "      <td>5.743003</td>\n",
       "      <td>2</td>\n",
       "    </tr>\n",
       "  </tbody>\n",
       "</table>\n",
       "</div>"
      ],
      "text/plain": [
       "   CustomerID  Freq  SaleAmount  ElapsedDays  Freq_log  SaleAmount_log  \\\n",
       "0       12346     1    77183.60          326  0.693147       11.253955   \n",
       "1       12347   182     4310.00            3  5.209486        8.368925   \n",
       "2       12348    31     1797.24           76  3.465736        7.494564   \n",
       "3       12349    73     1757.55           19  4.304065        7.472245   \n",
       "4       12350    17      334.40          311  2.890372        5.815324   \n",
       "\n",
       "   ElapsedDays_log  ClusterLabel  \n",
       "0         5.789960             1  \n",
       "1         1.386294             3  \n",
       "2         4.343805             1  \n",
       "3         2.995732             1  \n",
       "4         5.743003             2  "
      ]
     },
     "execution_count": 184,
     "metadata": {},
     "output_type": "execute_result"
    }
   ],
   "source": [
    "customer_df['ClusterLabel'] = Y_labels\n",
    "customer_df.head()"
   ]
  },
  {
   "cell_type": "code",
   "execution_count": 185,
   "id": "1d7c9778",
   "metadata": {},
   "outputs": [],
   "source": [
    "customer_df.to_csv('./Online_Retail_Customer_Cluster.csv')"
   ]
  },
  {
   "cell_type": "code",
   "execution_count": 186,
   "id": "864e9389",
   "metadata": {},
   "outputs": [
    {
     "data": {
      "text/plain": [
       "ClusterLabel\n",
       "0     891\n",
       "1    1207\n",
       "2    1368\n",
       "3     872\n",
       "Name: CustomerID, dtype: int64"
      ]
     },
     "execution_count": 186,
     "metadata": {},
     "output_type": "execute_result"
    }
   ],
   "source": [
    "customer_df.groupby('ClusterLabel')['CustomerID'].count()"
   ]
  },
  {
   "cell_type": "code",
   "execution_count": 187,
   "id": "512b93b8",
   "metadata": {},
   "outputs": [],
   "source": [
    "customer_cluster_df = customer_df.drop(['Freq_log', 'SaleAmount_log', 'ElapsedDays_log'],axis = 1, inplace = False)"
   ]
  },
  {
   "cell_type": "code",
   "execution_count": 188,
   "id": "e9823755",
   "metadata": {},
   "outputs": [
    {
     "data": {
      "text/html": [
       "<div>\n",
       "<style scoped>\n",
       "    .dataframe tbody tr th:only-of-type {\n",
       "        vertical-align: middle;\n",
       "    }\n",
       "\n",
       "    .dataframe tbody tr th {\n",
       "        vertical-align: top;\n",
       "    }\n",
       "\n",
       "    .dataframe thead th {\n",
       "        text-align: right;\n",
       "    }\n",
       "</style>\n",
       "<table border=\"1\" class=\"dataframe\">\n",
       "  <thead>\n",
       "    <tr style=\"text-align: right;\">\n",
       "      <th></th>\n",
       "      <th>CustomerID</th>\n",
       "      <th>Freq</th>\n",
       "      <th>SaleAmount</th>\n",
       "      <th>ElapsedDays</th>\n",
       "      <th>ClusterLabel</th>\n",
       "      <th>SaleAmountAvg</th>\n",
       "    </tr>\n",
       "  </thead>\n",
       "  <tbody>\n",
       "    <tr>\n",
       "      <th>0</th>\n",
       "      <td>12346</td>\n",
       "      <td>1</td>\n",
       "      <td>77183.60</td>\n",
       "      <td>326</td>\n",
       "      <td>1</td>\n",
       "      <td>77183.600000</td>\n",
       "    </tr>\n",
       "    <tr>\n",
       "      <th>1</th>\n",
       "      <td>12347</td>\n",
       "      <td>182</td>\n",
       "      <td>4310.00</td>\n",
       "      <td>3</td>\n",
       "      <td>3</td>\n",
       "      <td>23.681319</td>\n",
       "    </tr>\n",
       "    <tr>\n",
       "      <th>2</th>\n",
       "      <td>12348</td>\n",
       "      <td>31</td>\n",
       "      <td>1797.24</td>\n",
       "      <td>76</td>\n",
       "      <td>1</td>\n",
       "      <td>57.975484</td>\n",
       "    </tr>\n",
       "    <tr>\n",
       "      <th>3</th>\n",
       "      <td>12349</td>\n",
       "      <td>73</td>\n",
       "      <td>1757.55</td>\n",
       "      <td>19</td>\n",
       "      <td>1</td>\n",
       "      <td>24.076027</td>\n",
       "    </tr>\n",
       "    <tr>\n",
       "      <th>4</th>\n",
       "      <td>12350</td>\n",
       "      <td>17</td>\n",
       "      <td>334.40</td>\n",
       "      <td>311</td>\n",
       "      <td>2</td>\n",
       "      <td>19.670588</td>\n",
       "    </tr>\n",
       "  </tbody>\n",
       "</table>\n",
       "</div>"
      ],
      "text/plain": [
       "   CustomerID  Freq  SaleAmount  ElapsedDays  ClusterLabel  SaleAmountAvg\n",
       "0       12346     1    77183.60          326             1   77183.600000\n",
       "1       12347   182     4310.00            3             3      23.681319\n",
       "2       12348    31     1797.24           76             1      57.975484\n",
       "3       12349    73     1757.55           19             1      24.076027\n",
       "4       12350    17      334.40          311             2      19.670588"
      ]
     },
     "execution_count": 188,
     "metadata": {},
     "output_type": "execute_result"
    }
   ],
   "source": [
    "#주문 1회당 평균 구매금액: SaleAmountAvg\n",
    "customer_cluster_df['SaleAmountAvg'] = customer_cluster_df['SaleAmount']/customer_cluster_df['Freq']\n",
    "customer_cluster_df.head()\n"
   ]
  },
  {
   "cell_type": "code",
   "execution_count": 189,
   "id": "08a306d8",
   "metadata": {},
   "outputs": [
    {
     "data": {
      "text/html": [
       "<div>\n",
       "<style scoped>\n",
       "    .dataframe tbody tr th:only-of-type {\n",
       "        vertical-align: middle;\n",
       "    }\n",
       "\n",
       "    .dataframe tbody tr th {\n",
       "        vertical-align: top;\n",
       "    }\n",
       "\n",
       "    .dataframe thead th {\n",
       "        text-align: right;\n",
       "    }\n",
       "</style>\n",
       "<table border=\"1\" class=\"dataframe\">\n",
       "  <thead>\n",
       "    <tr style=\"text-align: right;\">\n",
       "      <th></th>\n",
       "      <th>Freq</th>\n",
       "      <th>SaleAmount</th>\n",
       "      <th>ElapsedDays</th>\n",
       "      <th>SaleAmountAvg</th>\n",
       "    </tr>\n",
       "    <tr>\n",
       "      <th>ClusterLabel</th>\n",
       "      <th></th>\n",
       "      <th></th>\n",
       "      <th></th>\n",
       "      <th></th>\n",
       "    </tr>\n",
       "  </thead>\n",
       "  <tbody>\n",
       "    <tr>\n",
       "      <th>0</th>\n",
       "      <td>37.811448</td>\n",
       "      <td>603.494053</td>\n",
       "      <td>20.888889</td>\n",
       "      <td>32.256335</td>\n",
       "    </tr>\n",
       "    <tr>\n",
       "      <th>1</th>\n",
       "      <td>79.195526</td>\n",
       "      <td>1506.813034</td>\n",
       "      <td>96.000829</td>\n",
       "      <td>102.998219</td>\n",
       "    </tr>\n",
       "    <tr>\n",
       "      <th>2</th>\n",
       "      <td>15.052632</td>\n",
       "      <td>298.748151</td>\n",
       "      <td>188.111842</td>\n",
       "      <td>43.338802</td>\n",
       "    </tr>\n",
       "    <tr>\n",
       "      <th>3</th>\n",
       "      <td>278.464450</td>\n",
       "      <td>7020.739553</td>\n",
       "      <td>13.612385</td>\n",
       "      <td>96.665836</td>\n",
       "    </tr>\n",
       "  </tbody>\n",
       "</table>\n",
       "</div>"
      ],
      "text/plain": [
       "                    Freq   SaleAmount  ElapsedDays  SaleAmountAvg\n",
       "ClusterLabel                                                     \n",
       "0              37.811448   603.494053    20.888889      32.256335\n",
       "1              79.195526  1506.813034    96.000829     102.998219\n",
       "2              15.052632   298.748151   188.111842      43.338802\n",
       "3             278.464450  7020.739553    13.612385      96.665836"
      ]
     },
     "execution_count": 189,
     "metadata": {},
     "output_type": "execute_result"
    }
   ],
   "source": [
    "customer_cluster_df.drop(['CustomerID'],axis = 1, inplace = False).groupby('ClusterLabel').mean()"
   ]
  },
  {
   "cell_type": "code",
   "execution_count": null,
   "id": "b42a9dcb",
   "metadata": {},
   "outputs": [],
   "source": []
  }
 ],
 "metadata": {
  "kernelspec": {
   "display_name": "Python 3 (ipykernel)",
   "language": "python",
   "name": "python3"
  },
  "language_info": {
   "codemirror_mode": {
    "name": "ipython",
    "version": 3
   },
   "file_extension": ".py",
   "mimetype": "text/x-python",
   "name": "python",
   "nbconvert_exporter": "python",
   "pygments_lexer": "ipython3",
   "version": "3.9.6"
  }
 },
 "nbformat": 4,
 "nbformat_minor": 5
}
