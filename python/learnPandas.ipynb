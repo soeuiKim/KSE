{
 "cells": [
  {
   "cell_type": "code",
   "execution_count": 2,
   "id": "c5ac4c7a",
   "metadata": {},
   "outputs": [],
   "source": [
    "# Data Analysis with Python _ 파이썬을 이용한 데이터 분석\n",
    "# 1. sequence data type\n",
    "# 2. Numpy, Pandas, Matplotlib\n",
    "# 3. Statistics (통계학)"
   ]
  },
  {
   "cell_type": "code",
   "execution_count": null,
   "id": "3943dc12",
   "metadata": {},
   "outputs": [],
   "source": []
  },
  {
   "cell_type": "code",
   "execution_count": 3,
   "id": "94d57f25",
   "metadata": {},
   "outputs": [
    {
     "name": "stdout",
     "output_type": "stream",
     "text": [
      "Requirement already satisfied: pandas in c:\\developer\\python39\\lib\\site-packages (1.3.0)\n",
      "Requirement already satisfied: numpy>=1.17.3 in c:\\developer\\python39\\lib\\site-packages (from pandas) (1.21.0)\n",
      "Requirement already satisfied: pytz>=2017.3 in c:\\developer\\python39\\lib\\site-packages (from pandas) (2021.1)\n",
      "Requirement already satisfied: python-dateutil>=2.7.3 in c:\\developer\\python39\\lib\\site-packages (from pandas) (2.8.1)\n",
      "Requirement already satisfied: six>=1.5 in c:\\developer\\python39\\lib\\site-packages (from python-dateutil>=2.7.3->pandas) (1.16.0)\n"
     ]
    },
    {
     "name": "stderr",
     "output_type": "stream",
     "text": [
      "WARNING: You are using pip version 21.1.3; however, version 21.2.1 is available.\n",
      "You should consider upgrading via the 'c:\\developer\\python39\\python.exe -m pip install --upgrade pip' command.\n"
     ]
    }
   ],
   "source": [
    "# pandas module설치\n",
    "\n",
    "!pip install pandas"
   ]
  },
  {
   "cell_type": "code",
   "execution_count": 5,
   "id": "19678467",
   "metadata": {},
   "outputs": [
    {
     "name": "stdout",
     "output_type": "stream",
     "text": [
      "0    1\n",
      "1    9\n",
      "2   -3\n",
      "3    4\n",
      "dtype: int64\n",
      "[ 1  9 -3  4]\n",
      "RangeIndex(start=0, stop=4, step=1)\n",
      "int64\n"
     ]
    }
   ],
   "source": [
    "import pandas as pd\n",
    "s = pd.Series([1,9,-3,4])\n",
    "print(s)\n",
    "\n",
    "print(s.values)\n",
    "print(s.index)\n",
    "print(s.dtypes)"
   ]
  },
  {
   "cell_type": "code",
   "execution_count": 9,
   "id": "05d89c45",
   "metadata": {},
   "outputs": [
    {
     "name": "stdout",
     "output_type": "stream",
     "text": [
      "a    1\n",
      "b    9\n",
      "c   -3\n",
      "d    4\n",
      "dtype: int64\n"
     ]
    }
   ],
   "source": [
    "s = pd.Series(([1,9,-3,4]), index = ['a', 'b', 'c', 'd'])\n",
    "print(s)"
   ]
  },
  {
   "cell_type": "code",
   "execution_count": 11,
   "id": "1a5dbecf",
   "metadata": {},
   "outputs": [
    {
     "name": "stdout",
     "output_type": "stream",
     "text": [
      "a    1000\n",
      "b    2000\n",
      "c    3000\n",
      "d    4000\n",
      "dtype: int64\n"
     ]
    }
   ],
   "source": [
    "# 사전과 호환\n",
    "dic = { 'a':1000,'b':2000,'c':3000,'d':4000}\n",
    "s = pd.Series(dic)\n",
    "print(s)"
   ]
  },
  {
   "cell_type": "code",
   "execution_count": 16,
   "id": "051f6dd8",
   "metadata": {},
   "outputs": [
    {
     "name": "stdout",
     "output_type": "stream",
     "text": [
      "     a           b  c  d  e    f\n",
      "0  1.0  2021.05.06  1  5  0  web\n",
      "1  1.0  2021.05.06  2  6  0  web\n",
      "2  1.0  2021.05.06  3  7  0  web\n",
      "3  1.0  2021.05.06  4  8  0  web\n"
     ]
    }
   ],
   "source": [
    "df = pd.DataFrame({'a':1.,\n",
    "                   'b':'2021.05.06',\n",
    "                  'c':[1,2,3,4],\n",
    "                  'd':(5,6,7,8),\n",
    "                  'e':0,\n",
    "                  'f':'web'\n",
    "                  })\n",
    "print(df)"
   ]
  },
  {
   "cell_type": "code",
   "execution_count": 19,
   "id": "311418e6",
   "metadata": {},
   "outputs": [
    {
     "name": "stdout",
     "output_type": "stream",
     "text": [
      "RangeIndex(start=0, stop=4, step=1)\n",
      "Index(['a', 'b', 'c', 'd', 'e', 'f'], dtype='object')\n"
     ]
    }
   ],
   "source": [
    "# 인덱스 확인\n",
    "# 행\n",
    "print(df.index)\n",
    "# 열\n",
    "print(df.columns)"
   ]
  },
  {
   "cell_type": "code",
   "execution_count": 35,
   "id": "83bf2742",
   "metadata": {},
   "outputs": [
    {
     "name": "stdout",
     "output_type": "stream",
     "text": [
      "  name  year  point\n",
      "0    a  2021    3.2\n",
      "1    b  2022    4.2\n",
      "2    c  2023    5.5\n",
      "3    d  2024    6.1\n",
      "4    e  2025    2.5\n"
     ]
    }
   ],
   "source": [
    "data = {'name':['a','b','c','d','e'],\n",
    "        'year':[2021,2022,2023,2024,2025],\n",
    "        'point':[3.2,4.2,5.5,6.1,2.5]}\n",
    "df = pd.DataFrame(data)\n",
    "print(df)"
   ]
  },
  {
   "cell_type": "code",
   "execution_count": 28,
   "id": "f3021e1b",
   "metadata": {},
   "outputs": [],
   "source": [
    "# #인덱싱(열)을 기준으로 데이터 추가 삭제 및 변경가능\n",
    "#print(df[['y']])"
   ]
  },
  {
   "cell_type": "code",
   "execution_count": 29,
   "id": "15871aae",
   "metadata": {},
   "outputs": [],
   "source": [
    " # 새로운 열 추가\n",
    "# df['new'] = [1,2,3,4,5]\n",
    "# print(df)"
   ]
  },
  {
   "cell_type": "code",
   "execution_count": 30,
   "id": "4f13eae1",
   "metadata": {},
   "outputs": [],
   "source": [
    "## 삭제\n",
    "# del df['new']\n",
    "# print(df)"
   ]
  },
  {
   "cell_type": "code",
   "execution_count": 34,
   "id": "b40e5d2c",
   "metadata": {},
   "outputs": [
    {
     "name": "stdout",
     "output_type": "stream",
     "text": [
      "  name  year  point\n",
      "0    a  2021    3.2\n",
      "1    b  2022    4.2\n",
      "2    c  2023    5.5\n",
      "3    d  2024    6.1\n",
      "4    e  2025    2.5\n"
     ]
    }
   ],
   "source": [
    "# 인덱싱(행)을 기준으로 데이터 추가 및 삭제\n",
    "data = {'name':['a','b','c','d','e'],\n",
    "        'year':[2021,2022,2023,2024,2025],\n",
    "        'point':[3.2,4.2,5.5,6.1,2.5]}\n",
    "df = pd.DataFrame(data)\n",
    "print(df)"
   ]
  },
  {
   "cell_type": "code",
   "execution_count": 48,
   "id": "9f5d9cf7",
   "metadata": {},
   "outputs": [
    {
     "name": "stdout",
     "output_type": "stream",
     "text": [
      "  name    year  point\n",
      "0    a  2021.0    3.2\n",
      "1    b  2022.0    4.2\n",
      "2    c  2023.0    5.5\n",
      "3    d  2024.0    6.1\n",
      "4    e  2025.0    2.5\n",
      "5    f  2000.0    8.8\n"
     ]
    }
   ],
   "source": [
    "# 새로운 행 추가\n",
    "df.loc[5,:] = ['f',2000, 8.8]\n",
    "print(df)"
   ]
  },
  {
   "cell_type": "code",
   "execution_count": 39,
   "id": "1596e4de",
   "metadata": {},
   "outputs": [
    {
     "name": "stdout",
     "output_type": "stream",
     "text": [
      "  name  year  point\n",
      "2    c  2023    5.5\n",
      "3    d  2024    6.1\n"
     ]
    }
   ],
   "source": [
    "# 범위선택\n",
    "print(df[2:4])"
   ]
  },
  {
   "cell_type": "code",
   "execution_count": 40,
   "id": "73cd4b23",
   "metadata": {},
   "outputs": [
    {
     "name": "stdout",
     "output_type": "stream",
     "text": [
      "1    b\n",
      "2    c\n",
      "3    d\n",
      "Name: name, dtype: object\n"
     ]
    }
   ],
   "source": [
    "# 특정 열 검색\n",
    "print(df.loc[1:3,'name'])"
   ]
  },
  {
   "cell_type": "code",
   "execution_count": 49,
   "id": "e8653992",
   "metadata": {},
   "outputs": [],
   "source": [
    "# 데이터프레임 데이터분석 :  다양한 함수 제공\n",
    "# sum 합계\n",
    "# min,max 최소값, 최대값\n",
    "# argmin,argmax 최소,최대값의 인덱스 반환\n",
    "# mean 평균\n",
    "# median 중위값\n",
    "# std 표준편차(평균을중심으로 얼마나 퍼져있는지), \n",
    "# var 분산(평균으로부터 얼마나 떨어져있는지)\n",
    "# count\n",
    "# sort_values 정렬\n",
    "# corr,cor 상관계수, 공분산\n",
    "# unique 특정행,열에서 중복값제외한 유니크값 반환"
   ]
  },
  {
   "cell_type": "code",
   "execution_count": 50,
   "id": "7a8afe41",
   "metadata": {},
   "outputs": [
    {
     "name": "stdout",
     "output_type": "stream",
     "text": [
      "0    2024.2\n",
      "1    2026.2\n",
      "2    2028.5\n",
      "3    2030.1\n",
      "4    2027.5\n",
      "5    2008.8\n",
      "dtype: float64\n"
     ]
    },
    {
     "name": "stderr",
     "output_type": "stream",
     "text": [
      "C:\\Users\\user12\\AppData\\Local\\Temp/ipykernel_5628/166068483.py:1: FutureWarning: Dropping of nuisance columns in DataFrame reductions (with 'numeric_only=None') is deprecated; in a future version this will raise TypeError.  Select only valid columns before calling the reduction.\n",
      "  print(df.sum(axis=1))\n"
     ]
    }
   ],
   "source": [
    "print(df.sum(axis=1))"
   ]
  },
  {
   "cell_type": "code",
   "execution_count": 51,
   "id": "d99e3ffe",
   "metadata": {},
   "outputs": [
    {
     "name": "stdout",
     "output_type": "stream",
     "text": [
      "name      abcdef\n",
      "year     12115.0\n",
      "point       30.3\n",
      "dtype: object\n"
     ]
    }
   ],
   "source": [
    "print(df.sum(axis=0))"
   ]
  },
  {
   "cell_type": "code",
   "execution_count": null,
   "id": "80def099",
   "metadata": {},
   "outputs": [],
   "source": []
  },
  {
   "cell_type": "code",
   "execution_count": 52,
   "id": "3406df18",
   "metadata": {},
   "outputs": [],
   "source": [
    "# 파일 불러오기\n",
    "# pd.read_csv(파일이름)\n",
    "# 파일 저장하기\n",
    "# .to_csv('파일이름.csv')"
   ]
  },
  {
   "cell_type": "code",
   "execution_count": 53,
   "id": "9f67a859",
   "metadata": {},
   "outputs": [
    {
     "name": "stdout",
     "output_type": "stream",
     "text": [
      "       행정구역   총인구수(명)   남자인구수(명)   여자인구수(명)\n",
      "0     서울특별시  51672400    4649442    4916548\n",
      "1     부산광역시   9565990    1647291    1717067\n",
      "2     대구광역시   2397646    1182380    1215266\n",
      "3     인천광역시   2936367    1470544    1465823\n",
      "4     광주광역시   1442647     713793     728854\n",
      "5     대전광역시   1456107     726666     729441\n",
      "6     울산광역시   1126369     578924     547445\n",
      "7   세종특별자치시    362995     181328     181667\n",
      "8       경기도  13500688    6795088    6705600\n",
      "9       강원도   1535530     772949     762581\n",
      "10     충청북도   1597503     810225     787278\n",
      "11     충청남도   2117400    1082113    1035287\n",
      "12     전라북도   1794345     892670     901675\n",
      "13     전라남도   1840921     926398     914523\n",
      "14     경상북도   2632401    1326844    1305557\n",
      "15     경상남도   3325840    1674612    1651228\n",
      "16  제주특별자치도    675293     338766     336527\n"
     ]
    }
   ],
   "source": [
    "df = pd.read_csv(\"cities.csv\")\n",
    "print(df)"
   ]
  },
  {
   "cell_type": "code",
   "execution_count": 58,
   "id": "6f655fcd",
   "metadata": {},
   "outputs": [],
   "source": [
    "df.to_csv(\"cities_new.csv\")"
   ]
  },
  {
   "cell_type": "code",
   "execution_count": 59,
   "id": "3fffefd7",
   "metadata": {},
   "outputs": [],
   "source": [
    "#df.head() : 처음5개 데이터를 보여줌(숫자를 적으면 숫자만큼)\n",
    "#df.tail() : 마지막5개 데이터를 보여줌"
   ]
  },
  {
   "cell_type": "code",
   "execution_count": 60,
   "id": "b0927c67",
   "metadata": {},
   "outputs": [
    {
     "name": "stdout",
     "output_type": "stream",
     "text": [
      "<class 'pandas.core.frame.DataFrame'>\n",
      "RangeIndex: 17 entries, 0 to 16\n",
      "Data columns (total 4 columns):\n",
      " #   Column     Non-Null Count  Dtype \n",
      "---  ------     --------------  ----- \n",
      " 0   행정구역       17 non-null     object\n",
      " 1    총인구수(명)   17 non-null     int64 \n",
      " 2    남자인구수(명)  17 non-null     int64 \n",
      " 3    여자인구수(명)  17 non-null     int64 \n",
      "dtypes: int64(3), object(1)\n",
      "memory usage: 672.0+ bytes\n"
     ]
    }
   ],
   "source": [
    "df.info() #정보확인"
   ]
  },
  {
   "cell_type": "code",
   "execution_count": 61,
   "id": "730c59c1",
   "metadata": {},
   "outputs": [
    {
     "data": {
      "text/plain": [
       "(17, 4)"
      ]
     },
     "execution_count": 61,
     "metadata": {},
     "output_type": "execute_result"
    }
   ],
   "source": [
    "df.shape\n",
    "# 행과 열의 수를 빠르게 확인"
   ]
  },
  {
   "cell_type": "code",
   "execution_count": 62,
   "id": "cad5b4fc",
   "metadata": {},
   "outputs": [
    {
     "data": {
      "text/html": [
       "<div>\n",
       "<style scoped>\n",
       "    .dataframe tbody tr th:only-of-type {\n",
       "        vertical-align: middle;\n",
       "    }\n",
       "\n",
       "    .dataframe tbody tr th {\n",
       "        vertical-align: top;\n",
       "    }\n",
       "\n",
       "    .dataframe thead th {\n",
       "        text-align: right;\n",
       "    }\n",
       "</style>\n",
       "<table border=\"1\" class=\"dataframe\">\n",
       "  <thead>\n",
       "    <tr style=\"text-align: right;\">\n",
       "      <th></th>\n",
       "      <th>총인구수(명)</th>\n",
       "      <th>남자인구수(명)</th>\n",
       "      <th>여자인구수(명)</th>\n",
       "    </tr>\n",
       "  </thead>\n",
       "  <tbody>\n",
       "    <tr>\n",
       "      <th>count</th>\n",
       "      <td>1.700000e+01</td>\n",
       "      <td>1.700000e+01</td>\n",
       "      <td>1.700000e+01</td>\n",
       "    </tr>\n",
       "    <tr>\n",
       "      <th>mean</th>\n",
       "      <td>5.881202e+06</td>\n",
       "      <td>1.515884e+06</td>\n",
       "      <td>1.523669e+06</td>\n",
       "    </tr>\n",
       "    <tr>\n",
       "      <th>std</th>\n",
       "      <td>1.227352e+07</td>\n",
       "      <td>1.680130e+06</td>\n",
       "      <td>1.697563e+06</td>\n",
       "    </tr>\n",
       "    <tr>\n",
       "      <th>min</th>\n",
       "      <td>3.629950e+05</td>\n",
       "      <td>1.813280e+05</td>\n",
       "      <td>1.816670e+05</td>\n",
       "    </tr>\n",
       "    <tr>\n",
       "      <th>25%</th>\n",
       "      <td>1.456107e+06</td>\n",
       "      <td>7.266660e+05</td>\n",
       "      <td>7.294410e+05</td>\n",
       "    </tr>\n",
       "    <tr>\n",
       "      <th>50%</th>\n",
       "      <td>1.840921e+06</td>\n",
       "      <td>9.263980e+05</td>\n",
       "      <td>9.145230e+05</td>\n",
       "    </tr>\n",
       "    <tr>\n",
       "      <th>75%</th>\n",
       "      <td>2.936367e+06</td>\n",
       "      <td>1.470544e+06</td>\n",
       "      <td>1.465823e+06</td>\n",
       "    </tr>\n",
       "    <tr>\n",
       "      <th>max</th>\n",
       "      <td>5.167240e+07</td>\n",
       "      <td>6.795088e+06</td>\n",
       "      <td>6.705600e+06</td>\n",
       "    </tr>\n",
       "  </tbody>\n",
       "</table>\n",
       "</div>"
      ],
      "text/plain": [
       "            총인구수(명)      남자인구수(명)      여자인구수(명)\n",
       "count  1.700000e+01  1.700000e+01  1.700000e+01\n",
       "mean   5.881202e+06  1.515884e+06  1.523669e+06\n",
       "std    1.227352e+07  1.680130e+06  1.697563e+06\n",
       "min    3.629950e+05  1.813280e+05  1.816670e+05\n",
       "25%    1.456107e+06  7.266660e+05  7.294410e+05\n",
       "50%    1.840921e+06  9.263980e+05  9.145230e+05\n",
       "75%    2.936367e+06  1.470544e+06  1.465823e+06\n",
       "max    5.167240e+07  6.795088e+06  6.705600e+06"
      ]
     },
     "execution_count": 62,
     "metadata": {},
     "output_type": "execute_result"
    }
   ],
   "source": [
    "df.describe()\n",
    "#describe(기술하다,서술하다)\n",
    "# 통계학은 기술통계,추정통계가 있다\n",
    "# 기술통계는 서술하는것\n",
    "# 추정통계는 표본(전체를 반영할수있냐는 기준)을 정해서 추정하는것"
   ]
  },
  {
   "cell_type": "code",
   "execution_count": null,
   "id": "def31079",
   "metadata": {},
   "outputs": [],
   "source": []
  },
  {
   "cell_type": "code",
   "execution_count": 63,
   "id": "cd6c9900",
   "metadata": {},
   "outputs": [],
   "source": [
    "# 탐색적 데이터분석(EDA)\n",
    "# 데이터분석을 하기에 앞서 데이터가 어떤것인지 탐색하는것"
   ]
  },
  {
   "cell_type": "code",
   "execution_count": 64,
   "id": "698773dd",
   "metadata": {},
   "outputs": [],
   "source": [
    "# 1. 타이타닉 데이터를 df 형태로 읽어오기.\n",
    "# 2. df 출력\n",
    "# 3. head(), tail(), info(), shape, describe 로 기본정보 "
   ]
  },
  {
   "cell_type": "code",
   "execution_count": 65,
   "id": "bd05508e",
   "metadata": {},
   "outputs": [
    {
     "name": "stdout",
     "output_type": "stream",
     "text": [
      "     Unnamed: 0  Survived  Pclass     Sex        Age     Fare Embarked  \\\n",
      "0             0         0       3    male  22.000000   7.2500        S   \n",
      "1             1         1       1  female  38.000000  71.2833        C   \n",
      "2             2         1       3  female  26.000000   7.9250        S   \n",
      "3             3         1       1  female  35.000000  53.1000        S   \n",
      "4             4         0       3    male  35.000000   8.0500        S   \n",
      "..          ...       ...     ...     ...        ...      ...      ...   \n",
      "886         886         0       2    male  27.000000  13.0000        S   \n",
      "887         887         1       1  female  19.000000  30.0000        S   \n",
      "888         888         0       3  female  29.699118  23.4500        S   \n",
      "889         889         1       1    male  26.000000  30.0000        C   \n",
      "890         890         0       3    male  32.000000   7.7500        Q   \n",
      "\n",
      "      Class  Adult_Male   Embarktown  \n",
      "0     Third        True  Southampton  \n",
      "1     First       False    Cherbourg  \n",
      "2     Third       False  Southampton  \n",
      "3     First       False  Southampton  \n",
      "4     Third        True  Southampton  \n",
      "..      ...         ...          ...  \n",
      "886  Second        True  Southampton  \n",
      "887   First       False  Southampton  \n",
      "888   Third       False  Southampton  \n",
      "889   First        True    Cherbourg  \n",
      "890   Third        True   Queenstown  \n",
      "\n",
      "[891 rows x 10 columns]\n"
     ]
    }
   ],
   "source": [
    "dafe = pd.read_csv(\"titanic.csv\")\n",
    "\n",
    "print(dafe)"
   ]
  },
  {
   "cell_type": "code",
   "execution_count": 68,
   "id": "360b8321",
   "metadata": {},
   "outputs": [
    {
     "data": {
      "text/html": [
       "<div>\n",
       "<style scoped>\n",
       "    .dataframe tbody tr th:only-of-type {\n",
       "        vertical-align: middle;\n",
       "    }\n",
       "\n",
       "    .dataframe tbody tr th {\n",
       "        vertical-align: top;\n",
       "    }\n",
       "\n",
       "    .dataframe thead th {\n",
       "        text-align: right;\n",
       "    }\n",
       "</style>\n",
       "<table border=\"1\" class=\"dataframe\">\n",
       "  <thead>\n",
       "    <tr style=\"text-align: right;\">\n",
       "      <th></th>\n",
       "      <th>Unnamed: 0</th>\n",
       "      <th>Survived</th>\n",
       "      <th>Pclass</th>\n",
       "      <th>Sex</th>\n",
       "      <th>Age</th>\n",
       "      <th>Fare</th>\n",
       "      <th>Embarked</th>\n",
       "      <th>Class</th>\n",
       "      <th>Adult_Male</th>\n",
       "      <th>Embarktown</th>\n",
       "    </tr>\n",
       "  </thead>\n",
       "  <tbody>\n",
       "    <tr>\n",
       "      <th>0</th>\n",
       "      <td>0</td>\n",
       "      <td>0</td>\n",
       "      <td>3</td>\n",
       "      <td>male</td>\n",
       "      <td>22.0</td>\n",
       "      <td>7.2500</td>\n",
       "      <td>S</td>\n",
       "      <td>Third</td>\n",
       "      <td>True</td>\n",
       "      <td>Southampton</td>\n",
       "    </tr>\n",
       "    <tr>\n",
       "      <th>1</th>\n",
       "      <td>1</td>\n",
       "      <td>1</td>\n",
       "      <td>1</td>\n",
       "      <td>female</td>\n",
       "      <td>38.0</td>\n",
       "      <td>71.2833</td>\n",
       "      <td>C</td>\n",
       "      <td>First</td>\n",
       "      <td>False</td>\n",
       "      <td>Cherbourg</td>\n",
       "    </tr>\n",
       "    <tr>\n",
       "      <th>2</th>\n",
       "      <td>2</td>\n",
       "      <td>1</td>\n",
       "      <td>3</td>\n",
       "      <td>female</td>\n",
       "      <td>26.0</td>\n",
       "      <td>7.9250</td>\n",
       "      <td>S</td>\n",
       "      <td>Third</td>\n",
       "      <td>False</td>\n",
       "      <td>Southampton</td>\n",
       "    </tr>\n",
       "    <tr>\n",
       "      <th>3</th>\n",
       "      <td>3</td>\n",
       "      <td>1</td>\n",
       "      <td>1</td>\n",
       "      <td>female</td>\n",
       "      <td>35.0</td>\n",
       "      <td>53.1000</td>\n",
       "      <td>S</td>\n",
       "      <td>First</td>\n",
       "      <td>False</td>\n",
       "      <td>Southampton</td>\n",
       "    </tr>\n",
       "    <tr>\n",
       "      <th>4</th>\n",
       "      <td>4</td>\n",
       "      <td>0</td>\n",
       "      <td>3</td>\n",
       "      <td>male</td>\n",
       "      <td>35.0</td>\n",
       "      <td>8.0500</td>\n",
       "      <td>S</td>\n",
       "      <td>Third</td>\n",
       "      <td>True</td>\n",
       "      <td>Southampton</td>\n",
       "    </tr>\n",
       "  </tbody>\n",
       "</table>\n",
       "</div>"
      ],
      "text/plain": [
       "   Unnamed: 0  Survived  Pclass     Sex   Age     Fare Embarked  Class  \\\n",
       "0           0         0       3    male  22.0   7.2500        S  Third   \n",
       "1           1         1       1  female  38.0  71.2833        C  First   \n",
       "2           2         1       3  female  26.0   7.9250        S  Third   \n",
       "3           3         1       1  female  35.0  53.1000        S  First   \n",
       "4           4         0       3    male  35.0   8.0500        S  Third   \n",
       "\n",
       "   Adult_Male   Embarktown  \n",
       "0        True  Southampton  \n",
       "1       False    Cherbourg  \n",
       "2       False  Southampton  \n",
       "3       False  Southampton  \n",
       "4        True  Southampton  "
      ]
     },
     "execution_count": 68,
     "metadata": {},
     "output_type": "execute_result"
    }
   ],
   "source": [
    "dafe.head()\n"
   ]
  },
  {
   "cell_type": "code",
   "execution_count": 69,
   "id": "9e7ecef2",
   "metadata": {},
   "outputs": [
    {
     "data": {
      "text/html": [
       "<div>\n",
       "<style scoped>\n",
       "    .dataframe tbody tr th:only-of-type {\n",
       "        vertical-align: middle;\n",
       "    }\n",
       "\n",
       "    .dataframe tbody tr th {\n",
       "        vertical-align: top;\n",
       "    }\n",
       "\n",
       "    .dataframe thead th {\n",
       "        text-align: right;\n",
       "    }\n",
       "</style>\n",
       "<table border=\"1\" class=\"dataframe\">\n",
       "  <thead>\n",
       "    <tr style=\"text-align: right;\">\n",
       "      <th></th>\n",
       "      <th>Unnamed: 0</th>\n",
       "      <th>Survived</th>\n",
       "      <th>Pclass</th>\n",
       "      <th>Sex</th>\n",
       "      <th>Age</th>\n",
       "      <th>Fare</th>\n",
       "      <th>Embarked</th>\n",
       "      <th>Class</th>\n",
       "      <th>Adult_Male</th>\n",
       "      <th>Embarktown</th>\n",
       "    </tr>\n",
       "  </thead>\n",
       "  <tbody>\n",
       "    <tr>\n",
       "      <th>886</th>\n",
       "      <td>886</td>\n",
       "      <td>0</td>\n",
       "      <td>2</td>\n",
       "      <td>male</td>\n",
       "      <td>27.000000</td>\n",
       "      <td>13.00</td>\n",
       "      <td>S</td>\n",
       "      <td>Second</td>\n",
       "      <td>True</td>\n",
       "      <td>Southampton</td>\n",
       "    </tr>\n",
       "    <tr>\n",
       "      <th>887</th>\n",
       "      <td>887</td>\n",
       "      <td>1</td>\n",
       "      <td>1</td>\n",
       "      <td>female</td>\n",
       "      <td>19.000000</td>\n",
       "      <td>30.00</td>\n",
       "      <td>S</td>\n",
       "      <td>First</td>\n",
       "      <td>False</td>\n",
       "      <td>Southampton</td>\n",
       "    </tr>\n",
       "    <tr>\n",
       "      <th>888</th>\n",
       "      <td>888</td>\n",
       "      <td>0</td>\n",
       "      <td>3</td>\n",
       "      <td>female</td>\n",
       "      <td>29.699118</td>\n",
       "      <td>23.45</td>\n",
       "      <td>S</td>\n",
       "      <td>Third</td>\n",
       "      <td>False</td>\n",
       "      <td>Southampton</td>\n",
       "    </tr>\n",
       "    <tr>\n",
       "      <th>889</th>\n",
       "      <td>889</td>\n",
       "      <td>1</td>\n",
       "      <td>1</td>\n",
       "      <td>male</td>\n",
       "      <td>26.000000</td>\n",
       "      <td>30.00</td>\n",
       "      <td>C</td>\n",
       "      <td>First</td>\n",
       "      <td>True</td>\n",
       "      <td>Cherbourg</td>\n",
       "    </tr>\n",
       "    <tr>\n",
       "      <th>890</th>\n",
       "      <td>890</td>\n",
       "      <td>0</td>\n",
       "      <td>3</td>\n",
       "      <td>male</td>\n",
       "      <td>32.000000</td>\n",
       "      <td>7.75</td>\n",
       "      <td>Q</td>\n",
       "      <td>Third</td>\n",
       "      <td>True</td>\n",
       "      <td>Queenstown</td>\n",
       "    </tr>\n",
       "  </tbody>\n",
       "</table>\n",
       "</div>"
      ],
      "text/plain": [
       "     Unnamed: 0  Survived  Pclass     Sex        Age   Fare Embarked   Class  \\\n",
       "886         886         0       2    male  27.000000  13.00        S  Second   \n",
       "887         887         1       1  female  19.000000  30.00        S   First   \n",
       "888         888         0       3  female  29.699118  23.45        S   Third   \n",
       "889         889         1       1    male  26.000000  30.00        C   First   \n",
       "890         890         0       3    male  32.000000   7.75        Q   Third   \n",
       "\n",
       "     Adult_Male   Embarktown  \n",
       "886        True  Southampton  \n",
       "887       False  Southampton  \n",
       "888       False  Southampton  \n",
       "889        True    Cherbourg  \n",
       "890        True   Queenstown  "
      ]
     },
     "execution_count": 69,
     "metadata": {},
     "output_type": "execute_result"
    }
   ],
   "source": [
    "dafe.tail()"
   ]
  },
  {
   "cell_type": "code",
   "execution_count": 73,
   "id": "70bd660e",
   "metadata": {},
   "outputs": [
    {
     "name": "stdout",
     "output_type": "stream",
     "text": [
      "<class 'pandas.core.frame.DataFrame'>\n",
      "RangeIndex: 891 entries, 0 to 890\n",
      "Data columns (total 10 columns):\n",
      " #   Column      Non-Null Count  Dtype  \n",
      "---  ------      --------------  -----  \n",
      " 0   Unnamed: 0  891 non-null    int64  \n",
      " 1   Survived    891 non-null    int64  \n",
      " 2   Pclass      891 non-null    int64  \n",
      " 3   Sex         891 non-null    object \n",
      " 4   Age         891 non-null    float64\n",
      " 5   Fare        891 non-null    float64\n",
      " 6   Embarked    889 non-null    object \n",
      " 7   Class       891 non-null    object \n",
      " 8   Adult_Male  891 non-null    bool   \n",
      " 9   Embarktown  889 non-null    object \n",
      "dtypes: bool(1), float64(2), int64(3), object(4)\n",
      "memory usage: 63.6+ KB\n"
     ]
    }
   ],
   "source": [
    "dafe.info()"
   ]
  },
  {
   "cell_type": "code",
   "execution_count": 71,
   "id": "ac4d99d4",
   "metadata": {},
   "outputs": [
    {
     "data": {
      "text/plain": [
       "(891, 10)"
      ]
     },
     "execution_count": 71,
     "metadata": {},
     "output_type": "execute_result"
    }
   ],
   "source": [
    "dafe.shape"
   ]
  },
  {
   "cell_type": "code",
   "execution_count": 72,
   "id": "7dcdb84a",
   "metadata": {},
   "outputs": [
    {
     "data": {
      "text/html": [
       "<div>\n",
       "<style scoped>\n",
       "    .dataframe tbody tr th:only-of-type {\n",
       "        vertical-align: middle;\n",
       "    }\n",
       "\n",
       "    .dataframe tbody tr th {\n",
       "        vertical-align: top;\n",
       "    }\n",
       "\n",
       "    .dataframe thead th {\n",
       "        text-align: right;\n",
       "    }\n",
       "</style>\n",
       "<table border=\"1\" class=\"dataframe\">\n",
       "  <thead>\n",
       "    <tr style=\"text-align: right;\">\n",
       "      <th></th>\n",
       "      <th>Unnamed: 0</th>\n",
       "      <th>Survived</th>\n",
       "      <th>Pclass</th>\n",
       "      <th>Age</th>\n",
       "      <th>Fare</th>\n",
       "    </tr>\n",
       "  </thead>\n",
       "  <tbody>\n",
       "    <tr>\n",
       "      <th>count</th>\n",
       "      <td>891.000000</td>\n",
       "      <td>891.000000</td>\n",
       "      <td>891.000000</td>\n",
       "      <td>891.000000</td>\n",
       "      <td>891.000000</td>\n",
       "    </tr>\n",
       "    <tr>\n",
       "      <th>mean</th>\n",
       "      <td>445.000000</td>\n",
       "      <td>0.383838</td>\n",
       "      <td>2.308642</td>\n",
       "      <td>29.699118</td>\n",
       "      <td>32.204208</td>\n",
       "    </tr>\n",
       "    <tr>\n",
       "      <th>std</th>\n",
       "      <td>257.353842</td>\n",
       "      <td>0.486592</td>\n",
       "      <td>0.836071</td>\n",
       "      <td>13.002015</td>\n",
       "      <td>49.693429</td>\n",
       "    </tr>\n",
       "    <tr>\n",
       "      <th>min</th>\n",
       "      <td>0.000000</td>\n",
       "      <td>0.000000</td>\n",
       "      <td>1.000000</td>\n",
       "      <td>0.420000</td>\n",
       "      <td>0.000000</td>\n",
       "    </tr>\n",
       "    <tr>\n",
       "      <th>25%</th>\n",
       "      <td>222.500000</td>\n",
       "      <td>0.000000</td>\n",
       "      <td>2.000000</td>\n",
       "      <td>22.000000</td>\n",
       "      <td>7.910400</td>\n",
       "    </tr>\n",
       "    <tr>\n",
       "      <th>50%</th>\n",
       "      <td>445.000000</td>\n",
       "      <td>0.000000</td>\n",
       "      <td>3.000000</td>\n",
       "      <td>29.699118</td>\n",
       "      <td>14.454200</td>\n",
       "    </tr>\n",
       "    <tr>\n",
       "      <th>75%</th>\n",
       "      <td>667.500000</td>\n",
       "      <td>1.000000</td>\n",
       "      <td>3.000000</td>\n",
       "      <td>35.000000</td>\n",
       "      <td>31.000000</td>\n",
       "    </tr>\n",
       "    <tr>\n",
       "      <th>max</th>\n",
       "      <td>890.000000</td>\n",
       "      <td>1.000000</td>\n",
       "      <td>3.000000</td>\n",
       "      <td>80.000000</td>\n",
       "      <td>512.329200</td>\n",
       "    </tr>\n",
       "  </tbody>\n",
       "</table>\n",
       "</div>"
      ],
      "text/plain": [
       "       Unnamed: 0    Survived      Pclass         Age        Fare\n",
       "count  891.000000  891.000000  891.000000  891.000000  891.000000\n",
       "mean   445.000000    0.383838    2.308642   29.699118   32.204208\n",
       "std    257.353842    0.486592    0.836071   13.002015   49.693429\n",
       "min      0.000000    0.000000    1.000000    0.420000    0.000000\n",
       "25%    222.500000    0.000000    2.000000   22.000000    7.910400\n",
       "50%    445.000000    0.000000    3.000000   29.699118   14.454200\n",
       "75%    667.500000    1.000000    3.000000   35.000000   31.000000\n",
       "max    890.000000    1.000000    3.000000   80.000000  512.329200"
      ]
     },
     "execution_count": 72,
     "metadata": {},
     "output_type": "execute_result"
    }
   ],
   "source": [
    "dafe.describe()"
   ]
  },
  {
   "cell_type": "code",
   "execution_count": 75,
   "id": "080c5d99",
   "metadata": {},
   "outputs": [],
   "source": [
    "# 데이터가져오고\n",
    "# 탐색해보고\n",
    "# 분석방향설정\n",
    "# 데이터클리닝(정제)\n"
   ]
  },
  {
   "cell_type": "code",
   "execution_count": null,
   "id": "b69363d3",
   "metadata": {},
   "outputs": [],
   "source": []
  }
 ],
 "metadata": {
  "kernelspec": {
   "display_name": "Python 3 (ipykernel)",
   "language": "python",
   "name": "python3"
  },
  "language_info": {
   "codemirror_mode": {
    "name": "ipython",
    "version": 3
   },
   "file_extension": ".py",
   "mimetype": "text/x-python",
   "name": "python",
   "nbconvert_exporter": "python",
   "pygments_lexer": "ipython3",
   "version": "3.9.6"
  }
 },
 "nbformat": 4,
 "nbformat_minor": 5
}
