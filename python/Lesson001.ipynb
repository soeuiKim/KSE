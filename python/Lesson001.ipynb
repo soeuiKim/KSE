{
 "cells": [
  {
   "cell_type": "code",
   "execution_count": 2,
   "id": "070d01bb",
   "metadata": {},
   "outputs": [
    {
     "name": "stdout",
     "output_type": "stream",
     "text": [
      "Hello, pypthon\n"
     ]
    }
   ],
   "source": [
    "# 파이썬을 이용한 프로그래밍 기초\n",
    "''' 쥬피터노트부게 환경에서는 셀에 명령어를 입력하고 실행한다.\n",
    "(ctrl+Enter, Shift+Enter, Alt+Enter)'''\n",
    "\n",
    "print(\"Hello, pypthon\")"
   ]
  },
  {
   "cell_type": "code",
   "execution_count": 7,
   "id": "6423bf18",
   "metadata": {},
   "outputs": [],
   "source": [
    "'''데이터의 선언과 사용  ---> 동적할당 가능 dynamic allocation'''\n",
    "'''파이썬에서는 필요에 따라 바로 사용한다.'''\n",
    "\n",
    "a = 10.1"
   ]
  },
  {
   "cell_type": "code",
   "execution_count": 9,
   "id": "ecfa4406",
   "metadata": {},
   "outputs": [],
   "source": [
    "'''표현가능한 숫자의 범위'''\n",
    "\n",
    "c=123456901234567890\n"
   ]
  },
  {
   "cell_type": "code",
   "execution_count": 10,
   "id": "4aa6c167",
   "metadata": {},
   "outputs": [],
   "source": [
    "'''문자열의 표현'''\n",
    "\n",
    "mtstring = \"korea\""
   ]
  },
  {
   "cell_type": "code",
   "execution_count": null,
   "id": "117cc995",
   "metadata": {},
   "outputs": [],
   "source": []
  }
 ],
 "metadata": {
  "kernelspec": {
   "display_name": "Python 3 (ipykernel)",
   "language": "python",
   "name": "python3"
  },
  "language_info": {
   "codemirror_mode": {
    "name": "ipython",
    "version": 3
   },
   "file_extension": ".py",
   "mimetype": "text/x-python",
   "name": "python",
   "nbconvert_exporter": "python",
   "pygments_lexer": "ipython3",
   "version": "3.9.6"
  }
 },
 "nbformat": 4,
 "nbformat_minor": 5
}
