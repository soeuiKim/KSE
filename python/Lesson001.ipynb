{
 "cells": [
  {
   "cell_type": "code",
   "execution_count": 2,
   "id": "070d01bb",
   "metadata": {},
   "outputs": [
    {
     "name": "stdout",
     "output_type": "stream",
     "text": [
      "Hello, pypthon\n"
     ]
    }
   ],
   "source": [
    "# 파이썬을 이용한 프로그래밍 기초\n",
    "''' 쥬피터노트부게 환경에서는 셀에 명령어를 입력하고 실행한다.\n",
    "(ctrl+Enter, Shift+Enter, Alt+Enter)'''\n",
    "\n",
    "print(\"Hello, pypthon\")"
   ]
  },
  {
   "cell_type": "code",
   "execution_count": 7,
   "id": "6423bf18",
   "metadata": {},
   "outputs": [],
   "source": [
    "'''데이터의 선언과 사용  ---> 동적할당 가능 dynamic allocation'''\n",
    "'''파이썬에서는 필요에 따라 바로 사용한다.'''\n",
    "\n",
    "a = 10.1"
   ]
  },
  {
   "cell_type": "code",
   "execution_count": 9,
   "id": "ecfa4406",
   "metadata": {},
   "outputs": [],
   "source": [
    "'''표현가능한 숫자의 범위'''\n",
    "\n",
    "c=123456901234567890\n"
   ]
  },
  {
   "cell_type": "code",
   "execution_count": 10,
   "id": "4aa6c167",
   "metadata": {},
   "outputs": [],
   "source": [
    "'''문자열의 표현'''\n",
    "\n",
    "mtstring = \"korea\""
   ]
  },
  {
   "cell_type": "code",
   "execution_count": null,
   "id": "117cc995",
   "metadata": {},
   "outputs": [],
   "source": []
  },
  {
   "cell_type": "code",
   "execution_count": null,
   "id": "52f8a064",
   "metadata": {},
   "outputs": [],
   "source": []
  },
  {
   "cell_type": "code",
   "execution_count": null,
   "id": "1304d659",
   "metadata": {},
   "outputs": [],
   "source": []
  },
  {
   "cell_type": "code",
   "execution_count": null,
   "id": "3a7f1435",
   "metadata": {},
   "outputs": [],
   "source": []
  },
  {
   "cell_type": "code",
   "execution_count": 1,
   "id": "7f3c510a",
   "metadata": {},
   "outputs": [],
   "source": [
    "# 210716"
   ]
  },
  {
   "cell_type": "code",
   "execution_count": 2,
   "id": "41b81ed3",
   "metadata": {},
   "outputs": [
    {
     "name": "stdout",
     "output_type": "stream",
     "text": [
      "This sentence is output to the screen\n"
     ]
    }
   ],
   "source": [
    "# 파이썬의 출력문\n",
    "print('This sentence is output to the screen')"
   ]
  },
  {
   "cell_type": "code",
   "execution_count": 4,
   "id": "db00328e",
   "metadata": {},
   "outputs": [
    {
     "name": "stdout",
     "output_type": "stream",
     "text": [
      "The value of a is 5\n"
     ]
    }
   ],
   "source": [
    "# print()의 또 다른 예\n",
    "# 문자열과 변수값 동시 출력\n",
    "a = 5\n",
    "print('The value of a is', a)"
   ]
  },
  {
   "cell_type": "code",
   "execution_count": 8,
   "id": "75bf7907",
   "metadata": {},
   "outputs": [
    {
     "name": "stdout",
     "output_type": "stream",
     "text": [
      "1 2 3 4\n",
      "1*2*3*4^^^^^1#2#3#4&----\n"
     ]
    }
   ],
   "source": [
    "# print()에서 sep_세퍼레이터 와 end_엔드 사용\n",
    "print(1, 2, 3, 4)\n",
    "print(1, 2, 3, 4, sep='*', end='^^^^^')\n",
    "print(1, 2, 3, 4, sep='#', end='&')\n",
    "print ('----')"
   ]
  },
  {
   "cell_type": "code",
   "execution_count": 10,
   "id": "ac337b8d",
   "metadata": {},
   "outputs": [
    {
     "name": "stdout",
     "output_type": "stream",
     "text": [
      "The value of x is 5 and y is 10\n"
     ]
    }
   ],
   "source": [
    "# print()에서 문자열.format활용\n",
    "\n",
    "x = 5; y = 10\n",
    "print('The value of x is {} and y is {}'.format(x,y))\n"
   ]
  },
  {
   "cell_type": "code",
   "execution_count": 12,
   "id": "8c029db6",
   "metadata": {},
   "outputs": [
    {
     "name": "stdout",
     "output_type": "stream",
     "text": [
      "The value of x is 10 and y is 5\n"
     ]
    }
   ],
   "source": [
    "# print()에서 문자열.format활용\n",
    "\n",
    "x = 5; y = 10\n",
    "print('The value of x is {} and y is {}'.format(y,x))\n",
    "\n",
    "#format문_빈괄호는 위치값의 순서대로 나열\n"
   ]
  },
  {
   "cell_type": "code",
   "execution_count": 13,
   "id": "64f4e751",
   "metadata": {},
   "outputs": [
    {
     "name": "stdout",
     "output_type": "stream",
     "text": [
      "The value of x is 1 and y is 5\n"
     ]
    }
   ],
   "source": [
    "# print()에서 문자열.format활용\n",
    "\n",
    "print('The value of x is {x} and y is {y}'.format(x=1,y=5))\n",
    "# 직접입력도 가능"
   ]
  },
  {
   "cell_type": "code",
   "execution_count": 17,
   "id": "05d51f7b",
   "metadata": {},
   "outputs": [
    {
     "name": "stdout",
     "output_type": "stream",
     "text": [
      "print formating...10.00,  3.14\n"
     ]
    }
   ],
   "source": [
    "x = 10; y = 3.14\n",
    "print('print formating...%5.2f, %5.2f'%(x,y)) # format대신 %"
   ]
  },
  {
   "cell_type": "code",
   "execution_count": 19,
   "id": "f0e61a0d",
   "metadata": {},
   "outputs": [
    {
     "name": "stdout",
     "output_type": "stream",
     "text": [
      "숫자를 입력해주세요.123\n",
      "<class 'int'>\n"
     ]
    }
   ],
   "source": [
    "# python Input\n",
    "# input()\n",
    "a = int(input(\"숫자를 입력해주세요.\")) #숫자입력시 자동으로 문자열로 인식\n",
    "print(type(a))                         #int 나 float 로 형변화를 해줘야함"
   ]
  },
  {
   "cell_type": "code",
   "execution_count": 21,
   "id": "a9fd00e0",
   "metadata": {},
   "outputs": [
    {
     "name": "stdout",
     "output_type": "stream",
     "text": [
      "3.141592653589793\n",
      "2.718281828459045\n"
     ]
    }
   ],
   "source": [
    "# 파이썬의 모듈(자바에서는 클래스 or 패키지) 임포트(가져오기)\n",
    "import math\n",
    "print(math.pi)\n",
    "print(math.e)"
   ]
  },
  {
   "cell_type": "code",
   "execution_count": 23,
   "id": "409028af",
   "metadata": {},
   "outputs": [
    {
     "data": {
      "text/plain": [
       "['c:\\\\KSE\\\\python',\n",
       " 'c:\\\\developer\\\\python39\\\\python39.zip',\n",
       " 'c:\\\\developer\\\\python39\\\\DLLs',\n",
       " 'c:\\\\developer\\\\python39\\\\lib',\n",
       " 'c:\\\\developer\\\\python39',\n",
       " '',\n",
       " 'c:\\\\developer\\\\python39\\\\lib\\\\site-packages',\n",
       " 'c:\\\\developer\\\\python39\\\\lib\\\\site-packages\\\\win32',\n",
       " 'c:\\\\developer\\\\python39\\\\lib\\\\site-packages\\\\win32\\\\lib',\n",
       " 'c:\\\\developer\\\\python39\\\\lib\\\\site-packages\\\\Pythonwin',\n",
       " 'c:\\\\developer\\\\python39\\\\lib\\\\site-packages\\\\IPython\\\\extensions',\n",
       " 'C:\\\\Users\\\\user12\\\\.ipython']"
      ]
     },
     "execution_count": 23,
     "metadata": {},
     "output_type": "execute_result"
    }
   ],
   "source": [
    "import sys\n",
    "sys.path"
   ]
  },
  {
   "cell_type": "code",
   "execution_count": 25,
   "id": "ffde7b08",
   "metadata": {},
   "outputs": [
    {
     "data": {
      "text/plain": [
       "'1단계 : 컴이 셋 중 하나를 냈다고 가정하고 (변수 대입 방식으로)\\n사용자가 1,2,3을 냈을 때 승자를 판단하세요.\\n   2단계 : 컴이 내는 것을 random함수를 이용해서 1,2,3 중 하나를 내도록하고,\\n승자를 판단.'"
      ]
     },
     "execution_count": 25,
     "metadata": {},
     "output_type": "execute_result"
    }
   ],
   "source": [
    "# 가위 바위 보 ㄴScissor1, Rock2, Paper3\n",
    "#1단계 : 컴이 셋 중 하나를 냈다고 가정하고 (변수 대입 방식으로)\n",
    "#        사용자가 1,2,3을 냈을 때 승자를 판단하세요.\n",
    "#2단계 : 컴이 내는 것을 random함수를 이용해서 1,2,3 중 하나를 내도록하고,\n",
    "#        승자를 판단.\n"
   ]
  },
  {
   "cell_type": "code",
   "execution_count": null,
   "id": "4e2f7034",
   "metadata": {},
   "outputs": [],
   "source": []
  },
  {
   "cell_type": "code",
   "execution_count": null,
   "id": "b320528c",
   "metadata": {},
   "outputs": [],
   "source": []
  }
 ],
 "metadata": {
  "kernelspec": {
   "display_name": "Python 3 (ipykernel)",
   "language": "python",
   "name": "python3"
  },
  "language_info": {
   "codemirror_mode": {
    "name": "ipython",
    "version": 3
   },
   "file_extension": ".py",
   "mimetype": "text/x-python",
   "name": "python",
   "nbconvert_exporter": "python",
   "pygments_lexer": "ipython3",
   "version": "3.9.6"
  }
 },
 "nbformat": 4,
 "nbformat_minor": 5
}
