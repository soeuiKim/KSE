{
 "cells": [
  {
   "cell_type": "code",
   "execution_count": null,
   "id": "60de2f37",
   "metadata": {},
   "outputs": [],
   "source": [
    "# 7.12"
   ]
  },
  {
   "cell_type": "code",
   "execution_count": 1,
   "id": "2449fb40",
   "metadata": {},
   "outputs": [
    {
     "name": "stdout",
     "output_type": "stream",
     "text": [
      "헬로우 파이썬\n"
     ]
    }
   ],
   "source": [
    "print(\"헬로우 파이썬\")"
   ]
  },
  {
   "cell_type": "code",
   "execution_count": 1,
   "id": "a8228c3c",
   "metadata": {},
   "outputs": [
    {
     "name": "stdout",
     "output_type": "stream",
     "text": [
      "123\n"
     ]
    }
   ],
   "source": [
    "A = 123\n",
    "print(A)"
   ]
  },
  {
   "cell_type": "code",
   "execution_count": 3,
   "id": "5bede893",
   "metadata": {},
   "outputs": [
    {
     "name": "stdout",
     "output_type": "stream",
     "text": [
      "['False', 'None', 'True', '__peg_parser__', 'and', 'as', 'assert', 'async', 'await', 'break', 'class', 'continue', 'def', 'del', 'elif', 'else', 'except', 'finally', 'for', 'from', 'global', 'if', 'import', 'in', 'is', 'lambda', 'nonlocal', 'not', 'or', 'pass', 'raise', 'return', 'try', 'while', 'with', 'yield']\n"
     ]
    }
   ],
   "source": [
    "import keyword\n",
    "print(keyword.kwlist)"
   ]
  },
  {
   "cell_type": "code",
   "execution_count": 4,
   "id": "31137d2d",
   "metadata": {},
   "outputs": [
    {
     "name": "stdout",
     "output_type": "stream",
     "text": [
      "<class 'int'>\n",
      "<class 'float'>\n",
      "<class 'complex'>\n",
      "<class 'str'>\n",
      "<class 'str'>\n",
      "<class 'bool'>\n"
     ]
    }
   ],
   "source": [
    "a = 10\n",
    "b = 3.14\n",
    "c = 3 + 4j\n",
    "d = 'k'\n",
    "e = 'korea'\n",
    "f = True\n",
    "print(type(a))\n",
    "print(type(b))\n",
    "print(type(c))\n",
    "print(type(d))\n",
    "print(type(e))\n",
    "print(type(f))"
   ]
  },
  {
   "cell_type": "code",
   "execution_count": 5,
   "id": "9b327515",
   "metadata": {},
   "outputs": [
    {
     "name": "stdout",
     "output_type": "stream",
     "text": [
      "<class 'float'>\n"
     ]
    }
   ],
   "source": [
    "a = 1.2\n",
    "print(type(a))"
   ]
  },
  {
   "cell_type": "code",
   "execution_count": 6,
   "id": "c644dd7e",
   "metadata": {},
   "outputs": [
    {
     "name": "stdout",
     "output_type": "stream",
     "text": [
      "삭제전 1.2\n"
     ]
    }
   ],
   "source": [
    "print(\"삭제전\", a)\n"
   ]
  },
  {
   "cell_type": "code",
   "execution_count": 7,
   "id": "5e8bd9eb",
   "metadata": {},
   "outputs": [
    {
     "ename": "NameError",
     "evalue": "name 'a' is not defined",
     "output_type": "error",
     "traceback": [
      "\u001b[1;31m---------------------------------------------------------------------------\u001b[0m",
      "\u001b[1;31mNameError\u001b[0m                                 Traceback (most recent call last)",
      "\u001b[1;32m~\\AppData\\Local\\Temp/ipykernel_7412/3847917978.py\u001b[0m in \u001b[0;36m<module>\u001b[1;34m\u001b[0m\n\u001b[0;32m      1\u001b[0m \u001b[1;32mdel\u001b[0m \u001b[0ma\u001b[0m\u001b[1;33m\u001b[0m\u001b[1;33m\u001b[0m\u001b[0m\n\u001b[1;32m----> 2\u001b[1;33m \u001b[0mprint\u001b[0m\u001b[1;33m(\u001b[0m\u001b[1;34m\"삭제후\"\u001b[0m\u001b[1;33m,\u001b[0m \u001b[0ma\u001b[0m\u001b[1;33m)\u001b[0m\u001b[1;33m\u001b[0m\u001b[1;33m\u001b[0m\u001b[0m\n\u001b[0m",
      "\u001b[1;31mNameError\u001b[0m: name 'a' is not defined"
     ]
    }
   ],
   "source": [
    "del a\n",
    "print(\"삭제후\", a)"
   ]
  },
  {
   "cell_type": "code",
   "execution_count": 8,
   "id": "631f6569",
   "metadata": {},
   "outputs": [
    {
     "name": "stdout",
     "output_type": "stream",
     "text": [
      "3\n"
     ]
    }
   ],
   "source": [
    "print(1+2)"
   ]
  },
  {
   "cell_type": "code",
   "execution_count": 9,
   "id": "b5dc636b",
   "metadata": {},
   "outputs": [
    {
     "name": "stdout",
     "output_type": "stream",
     "text": [
      "korea\n"
     ]
    }
   ],
   "source": [
    "print(\"korea\")"
   ]
  },
  {
   "cell_type": "code",
   "execution_count": 13,
   "id": "0f1c25db",
   "metadata": {},
   "outputs": [
    {
     "name": "stdout",
     "output_type": "stream",
     "text": [
      "숫자를 입력해주세요.100\n"
     ]
    }
   ],
   "source": [
    "a = int(input(\"숫자를 입력해주세요.\"))"
   ]
  },
  {
   "cell_type": "code",
   "execution_count": 11,
   "id": "a13896d6",
   "metadata": {},
   "outputs": [
    {
     "name": "stdout",
     "output_type": "stream",
     "text": [
      "100\n"
     ]
    }
   ],
   "source": [
    "print(a)"
   ]
  },
  {
   "cell_type": "code",
   "execution_count": 14,
   "id": "e8faa4d9",
   "metadata": {},
   "outputs": [
    {
     "name": "stdout",
     "output_type": "stream",
     "text": [
      "<class 'int'>\n"
     ]
    }
   ],
   "source": [
    "print(type(a))"
   ]
  },
  {
   "cell_type": "code",
   "execution_count": 15,
   "id": "ccedd5fe",
   "metadata": {},
   "outputs": [],
   "source": [
    "# print(\"korea\")"
   ]
  },
  {
   "cell_type": "code",
   "execution_count": 16,
   "id": "06988281",
   "metadata": {},
   "outputs": [],
   "source": [
    "# print(\"python\")"
   ]
  },
  {
   "cell_type": "code",
   "execution_count": 17,
   "id": "6665a15d",
   "metadata": {},
   "outputs": [
    {
     "name": "stdout",
     "output_type": "stream",
     "text": [
      "1\n"
     ]
    }
   ],
   "source": [
    "\"\"\"멀티라인 코멘트,\n",
    "여러줄에 걸친 주석\"\"\"\n",
    "\n",
    "print(1)"
   ]
  },
  {
   "cell_type": "code",
   "execution_count": 18,
   "id": "918f3007",
   "metadata": {},
   "outputs": [
    {
     "name": "stdout",
     "output_type": "stream",
     "text": [
      "10\n",
      "20\n",
      "30\n"
     ]
    }
   ],
   "source": [
    "a, b, c = 10, 20, 30\n",
    "print (a)\n",
    "print (b)\n",
    "print (c)"
   ]
  },
  {
   "cell_type": "code",
   "execution_count": 19,
   "id": "5df1a0fc",
   "metadata": {},
   "outputs": [
    {
     "name": "stdout",
     "output_type": "stream",
     "text": [
      "1\n",
      "2\n",
      "125\n"
     ]
    }
   ],
   "source": [
    "print(5//3) # 몫\n",
    "print(5%3) # 나머지\n",
    "print(5**3) # 거듭제곱"
   ]
  },
  {
   "cell_type": "code",
   "execution_count": 23,
   "id": "cf40ffe7",
   "metadata": {},
   "outputs": [
    {
     "name": "stdout",
     "output_type": "stream",
     "text": [
      "True\n",
      "False\n",
      "False\n",
      "True\n"
     ]
    }
   ],
   "source": [
    "# 관계연산자 :  > , < , >=, <=, == 같다, != 같지않다\n",
    "print(10>5) # true\n",
    "print(10<5) # false\n",
    "print(10==5)\n",
    "print(10!=5)"
   ]
  },
  {
   "cell_type": "code",
   "execution_count": 25,
   "id": "36baeac8",
   "metadata": {},
   "outputs": [
    {
     "name": "stdout",
     "output_type": "stream",
     "text": [
      "True\n",
      "False\n",
      "True\n",
      "False\n"
     ]
    }
   ],
   "source": [
    "'''\n",
    "논리연산자 : and, or, not'''\n",
    "print(10>5 and 5>3)\n",
    "print(10>5 and 5<3)\n",
    "print(10>5 or 5<3)\n",
    "print(not(10>5))\n",
    "# not 부정"
   ]
  },
  {
   "cell_type": "code",
   "execution_count": 27,
   "id": "567f354f",
   "metadata": {},
   "outputs": [
    {
     "name": "stdout",
     "output_type": "stream",
     "text": [
      "<class 'list'>\n"
     ]
    }
   ],
   "source": [
    "#리스트는 대괄호로 사용\n",
    "a=[1,2,3,4,5] #리스트 생성\n",
    "print(type(a))"
   ]
  },
  {
   "cell_type": "code",
   "execution_count": 38,
   "id": "3f19bc18",
   "metadata": {},
   "outputs": [
    {
     "name": "stdout",
     "output_type": "stream",
     "text": [
      "[1, 2, 3, 100, 100, 100, 4, 5, 6, 6, 6, 6, 6, 6]\n",
      "2\n",
      "[1, 2, 3, 100, 100, 100, 100, 4, 5, 6, 6, 6, 6, 6, 6]\n"
     ]
    }
   ],
   "source": [
    "# 리스트에 새로운 값 추가\n",
    "a.append(6)\n",
    "print(a)\n",
    "a.insert(3, 100)\n",
    "print(a.index(3))\n",
    "print(a)"
   ]
  },
  {
   "cell_type": "code",
   "execution_count": 39,
   "id": "3dd342d7",
   "metadata": {},
   "outputs": [
    {
     "name": "stdout",
     "output_type": "stream",
     "text": [
      "[1, 2, 3, 100, 100, 100, 100, 4, 5, 6, 6, 6, 6, 6]\n"
     ]
    }
   ],
   "source": [
    "a.pop() # 리스트의 끝에 있는 요소 삭제\n",
    "print(a)"
   ]
  },
  {
   "cell_type": "code",
   "execution_count": 41,
   "id": "ab322b80",
   "metadata": {},
   "outputs": [
    {
     "name": "stdout",
     "output_type": "stream",
     "text": [
      "[1, 2, 3, 100, 100, 4, 5, 6, 6, 6, 6, 6]\n"
     ]
    }
   ],
   "source": [
    "a.remove(100) #특정값 삭제\n",
    "print(a)"
   ]
  },
  {
   "cell_type": "code",
   "execution_count": 42,
   "id": "fb3c20c4",
   "metadata": {},
   "outputs": [
    {
     "name": "stdout",
     "output_type": "stream",
     "text": [
      "[1, 2, 3, 100, 100, 4, 5, 6, 6, 6, 6, 6, 1000, 2000]\n"
     ]
    }
   ],
   "source": [
    "# a.extend = 리스트 합체\n",
    "b=[1000, 2000]\n",
    "a.extend(b)\n",
    "print(a)"
   ]
  },
  {
   "cell_type": "code",
   "execution_count": 43,
   "id": "10c13dbe",
   "metadata": {},
   "outputs": [
    {
     "name": "stdout",
     "output_type": "stream",
     "text": [
      "5\n"
     ]
    }
   ],
   "source": [
    "# a.count = 특정값의 수를 측정\n",
    "print(a.count(6))"
   ]
  },
  {
   "cell_type": "code",
   "execution_count": 45,
   "id": "05556f75",
   "metadata": {},
   "outputs": [
    {
     "name": "stdout",
     "output_type": "stream",
     "text": [
      "[]\n"
     ]
    }
   ],
   "source": [
    "a.clear()\n",
    "print(a)"
   ]
  },
  {
   "cell_type": "code",
   "execution_count": 28,
   "id": "678d9aed",
   "metadata": {},
   "outputs": [
    {
     "name": "stdout",
     "output_type": "stream",
     "text": [
      "<class 'list'>\n"
     ]
    }
   ],
   "source": [
    "b=list() # 빈 리스트 생성\n",
    "print(type(b))"
   ]
  },
  {
   "cell_type": "code",
   "execution_count": 47,
   "id": "a7c44be7",
   "metadata": {},
   "outputs": [],
   "source": [
    " # 튜플생성\n",
    "a=(1,2,3)\n",
    "# b=tuple(1,2,3)"
   ]
  },
  {
   "cell_type": "code",
   "execution_count": 48,
   "id": "8fed40a2",
   "metadata": {},
   "outputs": [
    {
     "name": "stdout",
     "output_type": "stream",
     "text": [
      "<class 'tuple'>\n"
     ]
    }
   ],
   "source": [
    "print(type(a))"
   ]
  },
  {
   "cell_type": "code",
   "execution_count": 49,
   "id": "d80d5901",
   "metadata": {},
   "outputs": [
    {
     "name": "stdout",
     "output_type": "stream",
     "text": [
      "[1, 2, 3, 4]\n"
     ]
    }
   ],
   "source": [
    "a=list(a)\n",
    "a.append(4)\n",
    "print(a)"
   ]
  },
  {
   "cell_type": "code",
   "execution_count": 50,
   "id": "a901a981",
   "metadata": {},
   "outputs": [
    {
     "name": "stdout",
     "output_type": "stream",
     "text": [
      "(1, 2, 3, 4)\n"
     ]
    }
   ],
   "source": [
    "a=tuple(a)\n",
    "print(a)"
   ]
  },
  {
   "cell_type": "code",
   "execution_count": null,
   "id": "02b63ef5",
   "metadata": {},
   "outputs": [],
   "source": []
  },
  {
   "cell_type": "code",
   "execution_count": 32,
   "id": "4ad1061e",
   "metadata": {},
   "outputs": [
    {
     "name": "stdout",
     "output_type": "stream",
     "text": [
      "1\n",
      "5\n",
      "[1, 3]\n"
     ]
    }
   ],
   "source": [
    "print(a[0]) # 리스트 특정 요소 접근, 인덱스 ㅅㅏ용\n",
    "print(a[-1]) # 리스트의 마지막 요소, -1 사용\n",
    "\n",
    "# 슬라이싱 이상:미만:증감\n",
    "print(a[0:-1:2])"
   ]
  },
  {
   "cell_type": "code",
   "execution_count": null,
   "id": "4fd09ca2",
   "metadata": {},
   "outputs": [],
   "source": []
  },
  {
   "cell_type": "code",
   "execution_count": 62,
   "id": "3af8a30f",
   "metadata": {},
   "outputs": [
    {
     "name": "stdout",
     "output_type": "stream",
     "text": [
      "{'이름': '홍길동', '주소': '청주시 상당구'}\n",
      "<class 'dict'>\n"
     ]
    }
   ],
   "source": [
    "a={'이름':'홍길동','주소':'청주시 상당구'}\n",
    "print(a)\n",
    "print(type(a))"
   ]
  },
  {
   "cell_type": "code",
   "execution_count": 63,
   "id": "bb324d82",
   "metadata": {},
   "outputs": [
    {
     "name": "stdout",
     "output_type": "stream",
     "text": [
      "홍길동\n"
     ]
    }
   ],
   "source": [
    "print(a['이름'])"
   ]
  },
  {
   "cell_type": "code",
   "execution_count": 56,
   "id": "7aedab53",
   "metadata": {},
   "outputs": [
    {
     "name": "stdout",
     "output_type": "stream",
     "text": [
      "{1, 2, 3, 4, 5}\n",
      "<class 'set'>\n",
      "[1, 2, 3, 4, 5, 3, 3, 3, 3, 3]\n",
      "<class 'list'>\n"
     ]
    }
   ],
   "source": [
    "a={1,2,3,4,5,3,3,3,3,3}\n",
    "print(a)\n",
    "print(type(a))\n",
    "b=[1,2,3,4,5,3,3,3,3,3] #중복x , 순서x\n",
    "print(b)\n",
    "print(type(b))"
   ]
  },
  {
   "cell_type": "code",
   "execution_count": 57,
   "id": "22ba4697",
   "metadata": {},
   "outputs": [
    {
     "name": "stdout",
     "output_type": "stream",
     "text": [
      "{1, 2, 3, 4, 5}\n"
     ]
    }
   ],
   "source": [
    "b = set(b)\n",
    "print(b)"
   ]
  },
  {
   "cell_type": "code",
   "execution_count": 58,
   "id": "061bf79a",
   "metadata": {},
   "outputs": [
    {
     "name": "stdout",
     "output_type": "stream",
     "text": [
      "{1, 2, 3, 4, 5}\n",
      "{3, 4, 5, 6, 7}\n"
     ]
    }
   ],
   "source": [
    "b = {3,4,5,6,7}\n",
    "print(a)\n",
    "print(b)"
   ]
  },
  {
   "cell_type": "code",
   "execution_count": 59,
   "id": "be8bccb7",
   "metadata": {},
   "outputs": [
    {
     "name": "stdout",
     "output_type": "stream",
     "text": [
      "{3, 4, 5}\n",
      "{1, 2, 3, 4, 5, 6, 7}\n",
      "{1, 2}\n"
     ]
    }
   ],
   "source": [
    "print(a&b) # 교집합\n",
    "print(a|b) # 합집합\n",
    "print(a-b) # 차집합"
   ]
  },
  {
   "cell_type": "code",
   "execution_count": null,
   "id": "22f3f192",
   "metadata": {},
   "outputs": [],
   "source": []
  },
  {
   "cell_type": "code",
   "execution_count": null,
   "id": "d5b11d29",
   "metadata": {},
   "outputs": [],
   "source": []
  },
  {
   "cell_type": "code",
   "execution_count": null,
   "id": "ae52c7f1",
   "metadata": {},
   "outputs": [],
   "source": []
  },
  {
   "cell_type": "code",
   "execution_count": null,
   "id": "0e760e41",
   "metadata": {},
   "outputs": [],
   "source": []
  },
  {
   "cell_type": "code",
   "execution_count": null,
   "id": "60bc7794",
   "metadata": {},
   "outputs": [],
   "source": []
  },
  {
   "cell_type": "code",
   "execution_count": null,
   "id": "2de03271",
   "metadata": {},
   "outputs": [],
   "source": []
  },
  {
   "cell_type": "code",
   "execution_count": null,
   "id": "293b9778",
   "metadata": {},
   "outputs": [],
   "source": []
  },
  {
   "cell_type": "code",
   "execution_count": null,
   "id": "ed8bb7b9",
   "metadata": {},
   "outputs": [],
   "source": []
  },
  {
   "cell_type": "code",
   "execution_count": null,
   "id": "1ded6d88",
   "metadata": {},
   "outputs": [],
   "source": []
  },
  {
   "cell_type": "code",
   "execution_count": null,
   "id": "fc91de63",
   "metadata": {},
   "outputs": [],
   "source": []
  },
  {
   "cell_type": "code",
   "execution_count": null,
   "id": "54dd4386",
   "metadata": {},
   "outputs": [],
   "source": []
  },
  {
   "cell_type": "code",
   "execution_count": 1,
   "id": "a7ffeea2",
   "metadata": {},
   "outputs": [],
   "source": [
    "'''사용자 정의 함수\n",
    "함수 정의\n",
    "def 함수이름(패러미터리스트) : \n",
    "      코드블럭(리스트)\n",
    "'''\n",
    "\n",
    "def sum(a,b) : \n",
    "    x=a+b\n",
    "    return x"
   ]
  },
  {
   "cell_type": "code",
   "execution_count": 3,
   "id": "ba20781c",
   "metadata": {},
   "outputs": [
    {
     "name": "stdout",
     "output_type": "stream",
     "text": [
      "30\n"
     ]
    }
   ],
   "source": [
    "print(sum(10,20))  # 함수 호출"
   ]
  },
  {
   "cell_type": "code",
   "execution_count": 13,
   "id": "95077b1c",
   "metadata": {},
   "outputs": [
    {
     "name": "stdout",
     "output_type": "stream",
     "text": [
      "3.5\n",
      "a\n",
      "97\n",
      "0o10\n",
      "0x11\n",
      "3\n",
      "<class 'str'>\n",
      "9\n",
      "3\n",
      "125\n",
      "4\n",
      "[0, 1, 2, 3, 4]\n"
     ]
    }
   ],
   "source": [
    "'''내장 함수\n",
    "abs(x) : 절대값\n",
    "chr(97) : 아스키코드값을 문자로 변환 출력\n",
    "ord('a') : 문자를 아스키코드값으로 변환 출력\n",
    "oct() : 10진수를 8진수로 변환 출력\n",
    "hex() : 10진수를 16진수로 변환 출력\n",
    "int()\n",
    "str()\n",
    "max(iterable x_ 반복적인 숫자들) 가장큰값 출력\n",
    "min() 가장작은값\n",
    "pow 제곱값\n",
    "len 리스트의 길이\n",
    "'''\n",
    "print(abs(-3.5))\n",
    "print(chr(97))\n",
    "print(ord('a'))\n",
    "print(oct(8))\n",
    "print(hex(17))\n",
    "print(int('3'))\n",
    "print(type(str(3)))\n",
    "print(max([3,9,4,5]))\n",
    "print(min([3,9,4,5]))\n",
    "print(pow(5,3))\n",
    "print(len([3,9,4,5]))\n",
    "print(list(range(5)))"
   ]
  },
  {
   "cell_type": "code",
   "execution_count": 17,
   "id": "501095cc",
   "metadata": {},
   "outputs": [
    {
     "name": "stdout",
     "output_type": "stream",
     "text": [
      "Requirement already satisfied: numpy in c:\\developer\\python39\\lib\\site-packages (1.21.0)\n"
     ]
    }
   ],
   "source": [
    "!pip install numpy"
   ]
  },
  {
   "cell_type": "code",
   "execution_count": 18,
   "id": "ceeeafb5",
   "metadata": {},
   "outputs": [
    {
     "name": "stdout",
     "output_type": "stream",
     "text": [
      "1.21.0\n"
     ]
    }
   ],
   "source": [
    "'''ㄷㅔ이터분석을 위한 주요 라이브러리 (구글 numpy검색)\n",
    "numpy : 행렬이나 대규모의 다차원배열을 쉽게 처리하는 파이썬 라이브러리\n",
    "\n",
    "numpy 모듈 설치\n",
    "  (느낌표)!pip install numpy\n",
    "numpy 모듈 import\n",
    "  import numpy as np 선언\n",
    "'''\n",
    "import numpy as np\n",
    "print(np.__version__)"
   ]
  },
  {
   "cell_type": "code",
   "execution_count": 19,
   "id": "abec2091",
   "metadata": {},
   "outputs": [
    {
     "name": "stdout",
     "output_type": "stream",
     "text": [
      "[1 2 3 4 5]\n",
      "<class 'numpy.ndarray'>\n"
     ]
    }
   ],
   "source": [
    "# 배열의 생성\n",
    "ar1=np.array([1,2,3,4,5])  # 1차원배열\n",
    "print(ar1)\n",
    "print(type(ar1))"
   ]
  },
  {
   "cell_type": "code",
   "execution_count": 22,
   "id": "4779081a",
   "metadata": {},
   "outputs": [
    {
     "name": "stdout",
     "output_type": "stream",
     "text": [
      "[[10 20 30]\n",
      " [40 50 60]]\n"
     ]
    }
   ],
   "source": [
    "'''리스트 값을 나열하여 ndarray생성'''\n",
    "ar2 = np.array([[10,20,30,],[40,50,60]]) # 2차원배열\n",
    "print(ar2)"
   ]
  },
  {
   "cell_type": "code",
   "execution_count": 30,
   "id": "deac8deb",
   "metadata": {},
   "outputs": [
    {
     "name": "stdout",
     "output_type": "stream",
     "text": [
      "[ 1  2  3  4  5  6  7  8  9 10]\n",
      "<class 'numpy.ndarray'>\n"
     ]
    }
   ],
   "source": [
    "''' 값의 범위를 지정하여 ndarray생성'''\n",
    "ar3 = np.arange(1,11) #arange리스트  \n",
    "print(ar3)\n",
    "print(type(ar3))"
   ]
  },
  {
   "cell_type": "code",
   "execution_count": 60,
   "id": "8238fc7a",
   "metadata": {},
   "outputs": [
    {
     "name": "stdout",
     "output_type": "stream",
     "text": [
      "[[1 2 3]\n",
      " [4 5 6]\n",
      " [7 8 9]]\n"
     ]
    }
   ],
   "source": [
    "'''구조를 지정하여 ndarray생성'''\n",
    "ar4 = np.arange(1,10).reshape(3,3) #arange리스트의 reshape구조생성\n",
    "print(ar4)"
   ]
  },
  {
   "cell_type": "code",
   "execution_count": 38,
   "id": "e8aac762",
   "metadata": {},
   "outputs": [
    {
     "name": "stdout",
     "output_type": "stream",
     "text": [
      "[[0. 0. 0.]\n",
      " [0. 0. 0.]]\n"
     ]
    }
   ],
   "source": [
    "'''초기값과 구조를 지정하여 ndarray생성'''\n",
    "ar5=np.zeros((2,3))\n",
    "print(ar5)"
   ]
  },
  {
   "cell_type": "code",
   "execution_count": 46,
   "id": "dcb71ec2",
   "metadata": {},
   "outputs": [
    {
     "name": "stdout",
     "output_type": "stream",
     "text": [
      "[[10 20]\n",
      " [40 50]]\n"
     ]
    }
   ],
   "source": [
    "'''ndarray 슬라이싱'''\n",
    "ar6 = ar2[0:2,0:2] #0행부터1행까지 0줄에서1줄까지'''\n",
    "print(ar6)"
   ]
  },
  {
   "cell_type": "code",
   "execution_count": 50,
   "id": "00f1aed4",
   "metadata": {},
   "outputs": [
    {
     "name": "stdout",
     "output_type": "stream",
     "text": [
      "[10 20 30 40 50]\n"
     ]
    }
   ],
   "source": [
    "'''리스트와 달리, 각 개별 요소들에 대해서 사칙연산을 적용할 수 있다.'''\n",
    "ar7 = ar1 + 10 '''연산처리 가능'''\n",
    "print(ar7)"
   ]
  },
  {
   "cell_type": "code",
   "execution_count": 54,
   "id": "fc47726b",
   "metadata": {},
   "outputs": [],
   "source": [
    "# lst = [1,2,3,4,5]\n",
    "# lst = lst * 10  '''리스트를 10번 반복함'''\n",
    "# print(lst)\n",
    "# 리스트에서는 덧셈연산이 되지 않는다"
   ]
  },
  {
   "cell_type": "code",
   "execution_count": 57,
   "id": "895c359e",
   "metadata": {},
   "outputs": [
    {
     "name": "stdout",
     "output_type": "stream",
     "text": [
      "[10 20 30 40 50]\n"
     ]
    }
   ],
   "source": [
    "ar8 = ar1 * 10\n",
    "print(ar8)"
   ]
  },
  {
   "cell_type": "code",
   "execution_count": 59,
   "id": "8c1d2b00",
   "metadata": {},
   "outputs": [
    {
     "name": "stdout",
     "output_type": "stream",
     "text": [
      "[ 20  40  60  80 100]\n"
     ]
    }
   ],
   "source": [
    "ar9 = ar7 + ar8\n",
    "print(ar9)"
   ]
  },
  {
   "cell_type": "code",
   "execution_count": 62,
   "id": "405d6ea9",
   "metadata": {},
   "outputs": [
    {
     "name": "stdout",
     "output_type": "stream",
     "text": [
      "[[300 360 420]\n",
      " [660 810 960]]\n"
     ]
    }
   ],
   "source": [
    "''' 행렬곱 연산 가능 np.dot()'''\n",
    "ar10 = np.dot(ar2,ar4)\n",
    "print(ar10)"
   ]
  },
  {
   "cell_type": "code",
   "execution_count": 66,
   "id": "34fa254c",
   "metadata": {},
   "outputs": [],
   "source": [
    "# pandas : 테이블 형태를 다루는 파이썬 라이브러리\n",
    "# series 자료형 _1차원자료구조\n",
    "# dataframe 자료형 _2차원자료구조'''\n",
    "\n",
    "'''series생성_리스트 이용'''"
   ]
  },
  {
   "cell_type": "code",
   "execution_count": 68,
   "id": "6ff13791",
   "metadata": {},
   "outputs": [
    {
     "name": "stdout",
     "output_type": "stream",
     "text": [
      "Requirement already satisfied: pandas in c:\\developer\\python39\\lib\\site-packages (1.3.0)\n",
      "Requirement already satisfied: python-dateutil>=2.7.3 in c:\\developer\\python39\\lib\\site-packages (from pandas) (2.8.1)\n",
      "Requirement already satisfied: pytz>=2017.3 in c:\\developer\\python39\\lib\\site-packages (from pandas) (2021.1)\n",
      "Requirement already satisfied: numpy>=1.17.3 in c:\\developer\\python39\\lib\\site-packages (from pandas) (1.21.0)\n",
      "Requirement already satisfied: six>=1.5 in c:\\developer\\python39\\lib\\site-packages (from python-dateutil>=2.7.3->pandas) (1.16.0)\n"
     ]
    }
   ],
   "source": [
    "# install\n",
    "!pip install pandas"
   ]
  },
  {
   "cell_type": "code",
   "execution_count": 76,
   "id": "b87e806e",
   "metadata": {},
   "outputs": [
    {
     "name": "stdout",
     "output_type": "stream",
     "text": [
      "1.3.0\n"
     ]
    }
   ],
   "source": [
    "# import\n",
    "import pandas as pd\n",
    "print(pd.__version__)"
   ]
  },
  {
   "cell_type": "code",
   "execution_count": 72,
   "id": "ada7ba0f",
   "metadata": {},
   "outputs": [
    {
     "name": "stdout",
     "output_type": "stream",
     "text": [
      "[10, 20, 30, 40, 50]\n",
      "<class 'list'>\n"
     ]
    }
   ],
   "source": [
    "# \n",
    "data1 = [10,20,30,40,50]\n",
    "print(data1)\n",
    "print(type(data1))"
   ]
  },
  {
   "cell_type": "code",
   "execution_count": 79,
   "id": "3e573015",
   "metadata": {},
   "outputs": [
    {
     "name": "stdout",
     "output_type": "stream",
     "text": [
      "0    10\n",
      "1    20\n",
      "2    30\n",
      "3    40\n",
      "4    50\n",
      "dtype: int64\n",
      "<class 'pandas.core.series.Series'>\n"
     ]
    }
   ],
   "source": [
    "sr1=pd.Series(data1)\n",
    "print(sr1)\n",
    "print(type(sr1))"
   ]
  },
  {
   "cell_type": "code",
   "execution_count": 89,
   "id": "d18f3ffa",
   "metadata": {},
   "outputs": [
    {
     "name": "stdout",
     "output_type": "stream",
     "text": [
      "0    1반\n",
      "1    2반\n",
      "2    3반\n",
      "3    4반\n",
      "4    5반\n",
      "dtype: object\n",
      "<class 'pandas.core.series.Series'>\n"
     ]
    }
   ],
   "source": [
    "data2 = ['1반','2반','3반','4반','5반']\n",
    "sr2 = pd.Series(data2)\n",
    "print(sr2)\n",
    "print(type(sr2))"
   ]
  },
  {
   "cell_type": "code",
   "execution_count": 136,
   "id": "26d161c7",
   "metadata": {},
   "outputs": [
    {
     "name": "stdout",
     "output_type": "stream",
     "text": [
      "0    10.0\n",
      "1    20.0\n",
      "2    30.0\n",
      "3    40.0\n",
      "4    50.0\n",
      "dtype: float64\n"
     ]
    }
   ],
   "source": [
    "'''값을 이용하여 series 생성'''\n",
    "sr3=pd.Series([10,20,30,40.,50])\n",
    "print(sr3)"
   ]
  },
  {
   "cell_type": "code",
   "execution_count": 85,
   "id": "8cdbb4db",
   "metadata": {},
   "outputs": [
    {
     "name": "stdout",
     "output_type": "stream",
     "text": [
      "0    월\n",
      "1    화\n",
      "2    수\n",
      "3    목\n",
      "4    금\n",
      "dtype: object\n"
     ]
    }
   ],
   "source": [
    "sr4=pd.Series(['월','화','수','목','금']) #인덱스값과 밸류값 같이 확인\n",
    "print(sr4)"
   ]
  },
  {
   "cell_type": "code",
   "execution_count": 87,
   "id": "4f432b6b",
   "metadata": {},
   "outputs": [
    {
     "name": "stdout",
     "output_type": "stream",
     "text": [
      "1번    10\n",
      "2번    20\n",
      "3번    30\n",
      "4번    40\n",
      "5번    50\n",
      "dtype: int64\n"
     ]
    }
   ],
   "source": [
    "''' 인덱스를 지정하여 Series 생성'''\n",
    "sr5 = pd.Series(data1, index=['1번','2번','3번','4번','5번'])\n",
    "print(sr5)"
   ]
  },
  {
   "cell_type": "code",
   "execution_count": 91,
   "id": "3f9b6516",
   "metadata": {},
   "outputs": [
    {
     "name": "stdout",
     "output_type": "stream",
     "text": [
      "1반    10\n",
      "2반    20\n",
      "3반    30\n",
      "4반    40\n",
      "5반    50\n",
      "dtype: int64\n"
     ]
    }
   ],
   "source": [
    "sr6 = pd.Series(data1, index=data2)\n",
    "print(sr6)"
   ]
  },
  {
   "cell_type": "code",
   "execution_count": 94,
   "id": "4b2d8beb",
   "metadata": {},
   "outputs": [
    {
     "name": "stdout",
     "output_type": "stream",
     "text": [
      "30\n",
      "30\n"
     ]
    }
   ],
   "source": [
    "'''Series 인덱싱'''\n",
    "print(sr6[2]) # 0,1,2 인덱스\n",
    "print(sr6['3반']) #이름을 선언한 인덱스 사용"
   ]
  },
  {
   "cell_type": "code",
   "execution_count": 97,
   "id": "84738b6c",
   "metadata": {},
   "outputs": [
    {
     "name": "stdout",
     "output_type": "stream",
     "text": [
      "3반    30\n",
      "4반    40\n",
      "dtype: int64\n",
      "3반    30\n",
      "4반    40\n",
      "5반    50\n",
      "dtype: int64\n"
     ]
    }
   ],
   "source": [
    "'''Series 슬라이싱'''\n",
    "print(sr6[2:4]) # 2이상4미만\n",
    "print(sr6['3반':'5반']) #3반~4반이 아닌 5반까지\n",
    "# 시리즈에서 우리가 인덱스한값을 슬라이싱하면 값을 포함함"
   ]
  },
  {
   "cell_type": "code",
   "execution_count": 99,
   "id": "47b4490d",
   "metadata": {},
   "outputs": [
    {
     "name": "stdout",
     "output_type": "stream",
     "text": [
      "Index(['1반', '2반', '3반', '4반', '5반'], dtype='object')\n"
     ]
    }
   ],
   "source": [
    "''' Series의 인덱스 구하기'''\n",
    "print(sr6.index)"
   ]
  },
  {
   "cell_type": "code",
   "execution_count": 101,
   "id": "2180eadd",
   "metadata": {},
   "outputs": [
    {
     "name": "stdout",
     "output_type": "stream",
     "text": [
      "[10 20 30 40 50]\n"
     ]
    }
   ],
   "source": [
    "'''Series의 value 구하기'''\n",
    "print(sr6.values) "
   ]
  },
  {
   "cell_type": "code",
   "execution_count": 104,
   "id": "7570567b",
   "metadata": {},
   "outputs": [
    {
     "name": "stdout",
     "output_type": "stream",
     "text": [
      "1반     20\n",
      "2반     40\n",
      "3반     60\n",
      "4반     80\n",
      "5반    100\n",
      "dtype: int64\n",
      "0    월월\n",
      "1    화화\n",
      "2    수수\n",
      "3    목목\n",
      "4    금금\n",
      "dtype: object\n"
     ]
    }
   ],
   "source": [
    "''' Series 원소가 숫자이면 + : 덧셈연산\n",
    "Series 원소가 문자열이면 + : 연결_문자열결합'''\n",
    "print(sr6+sr6)\n",
    "print(sr4+sr4)"
   ]
  },
  {
   "cell_type": "code",
   "execution_count": 107,
   "id": "9e1c5c0f",
   "metadata": {},
   "outputs": [
    {
     "name": "stdout",
     "output_type": "stream",
     "text": [
      "{'year': [2018, 2019, 2020], 'sales': [100, 200, 300]}\n"
     ]
    }
   ],
   "source": [
    "# DataFrame 자료형\n",
    "data_dic = {'year':[2018,2019,2020],'sales':[100,200,300]}\n",
    "print(data_dic)"
   ]
  },
  {
   "cell_type": "code",
   "execution_count": 108,
   "id": "7fe2a09f",
   "metadata": {},
   "outputs": [
    {
     "name": "stdout",
     "output_type": "stream",
     "text": [
      "   year  sales\n",
      "0  2018    100\n",
      "1  2019    200\n",
      "2  2020    300\n"
     ]
    }
   ],
   "source": [
    "# 딕셔너리를 이용하여 DataFrame생성\n",
    "df1=pd.DataFrame(data_dic)\n",
    "print(df1)"
   ]
  },
  {
   "cell_type": "code",
   "execution_count": 116,
   "id": "f74f2dc2",
   "metadata": {},
   "outputs": [
    {
     "name": "stdout",
     "output_type": "stream",
     "text": [
      "       1반  2반  3반\n",
      "중간고사  100  95  98\n",
      "기말고사   98  95  97\n"
     ]
    }
   ],
   "source": [
    "# 리스트를 이용하여 DataFrame 생성\n",
    "df2 = pd.DataFrame([[100,95,98],[98,95,97]],index=['중간고사','기말고사'], columns=['1반','2반','3반'])\n",
    "print(df2)"
   ]
  },
  {
   "cell_type": "code",
   "execution_count": 126,
   "id": "318fa3cd",
   "metadata": {},
   "outputs": [
    {
     "name": "stdout",
     "output_type": "stream",
     "text": [
      "          0    1   2    3\n",
      "0  20201101  홍길동  90  100\n",
      "1  20201102  성춘향  95   95\n",
      "2  20201103  박문수  90   90\n"
     ]
    }
   ],
   "source": [
    "# 리스트를 사용하여 DataFrame 생성2\n",
    "data_df = [['20201101','홍길동',90,100],\n",
    "           ['20201102','성춘향',95,95],\n",
    "           ['20201103','박문수',90,90]]\n",
    "df3=pd.DataFrame(data_df)\n",
    "print(df3)"
   ]
  },
  {
   "cell_type": "code",
   "execution_count": 127,
   "id": "144f2c05",
   "metadata": {},
   "outputs": [
    {
     "name": "stdout",
     "output_type": "stream",
     "text": [
      "         학번   이름  중간고사  기말고사\n",
      "0  20201101  홍길동    90   100\n",
      "1  20201102  성춘향    95    95\n",
      "2  20201103  박문수    90    90\n"
     ]
    }
   ],
   "source": [
    "# dataframe의 열이름 지정\n",
    "df3.columns=['학번','이름','중간고사','기말고사']\n",
    "print(df3)"
   ]
  },
  {
   "cell_type": "code",
   "execution_count": 128,
   "id": "63bb51b8",
   "metadata": {},
   "outputs": [
    {
     "data": {
      "text/html": [
       "<div>\n",
       "<style scoped>\n",
       "    .dataframe tbody tr th:only-of-type {\n",
       "        vertical-align: middle;\n",
       "    }\n",
       "\n",
       "    .dataframe tbody tr th {\n",
       "        vertical-align: top;\n",
       "    }\n",
       "\n",
       "    .dataframe thead th {\n",
       "        text-align: right;\n",
       "    }\n",
       "</style>\n",
       "<table border=\"1\" class=\"dataframe\">\n",
       "  <thead>\n",
       "    <tr style=\"text-align: right;\">\n",
       "      <th></th>\n",
       "      <th>학번</th>\n",
       "      <th>이름</th>\n",
       "      <th>중간고사</th>\n",
       "      <th>기말고사</th>\n",
       "    </tr>\n",
       "  </thead>\n",
       "  <tbody>\n",
       "    <tr>\n",
       "      <th>0</th>\n",
       "      <td>20201101</td>\n",
       "      <td>홍길동</td>\n",
       "      <td>90</td>\n",
       "      <td>100</td>\n",
       "    </tr>\n",
       "    <tr>\n",
       "      <th>1</th>\n",
       "      <td>20201102</td>\n",
       "      <td>성춘향</td>\n",
       "      <td>95</td>\n",
       "      <td>95</td>\n",
       "    </tr>\n",
       "    <tr>\n",
       "      <th>2</th>\n",
       "      <td>20201103</td>\n",
       "      <td>박문수</td>\n",
       "      <td>90</td>\n",
       "      <td>90</td>\n",
       "    </tr>\n",
       "  </tbody>\n",
       "</table>\n",
       "</div>"
      ],
      "text/plain": [
       "         학번   이름  중간고사  기말고사\n",
       "0  20201101  홍길동    90   100\n",
       "1  20201102  성춘향    95    95\n",
       "2  20201103  박문수    90    90"
      ]
     },
     "execution_count": 128,
     "metadata": {},
     "output_type": "execute_result"
    }
   ],
   "source": [
    "df3.head() # 데이터프레임의 앞에서부터 5개 행을 출력"
   ]
  },
  {
   "cell_type": "code",
   "execution_count": 130,
   "id": "a9150ebb",
   "metadata": {},
   "outputs": [
    {
     "data": {
      "text/html": [
       "<div>\n",
       "<style scoped>\n",
       "    .dataframe tbody tr th:only-of-type {\n",
       "        vertical-align: middle;\n",
       "    }\n",
       "\n",
       "    .dataframe tbody tr th {\n",
       "        vertical-align: top;\n",
       "    }\n",
       "\n",
       "    .dataframe thead th {\n",
       "        text-align: right;\n",
       "    }\n",
       "</style>\n",
       "<table border=\"1\" class=\"dataframe\">\n",
       "  <thead>\n",
       "    <tr style=\"text-align: right;\">\n",
       "      <th></th>\n",
       "      <th>학번</th>\n",
       "      <th>이름</th>\n",
       "      <th>중간고사</th>\n",
       "      <th>기말고사</th>\n",
       "    </tr>\n",
       "  </thead>\n",
       "  <tbody>\n",
       "    <tr>\n",
       "      <th>2</th>\n",
       "      <td>20201103</td>\n",
       "      <td>박문수</td>\n",
       "      <td>90</td>\n",
       "      <td>90</td>\n",
       "    </tr>\n",
       "  </tbody>\n",
       "</table>\n",
       "</div>"
      ],
      "text/plain": [
       "         학번   이름  중간고사  기말고사\n",
       "2  20201103  박문수    90    90"
      ]
     },
     "execution_count": 130,
     "metadata": {},
     "output_type": "execute_result"
    }
   ],
   "source": [
    "df3.tail(1) # 데이터프레임의 뒤에서부터 5개 행렬 출력\n"
   ]
  },
  {
   "cell_type": "code",
   "execution_count": 131,
   "id": "9559ce37",
   "metadata": {},
   "outputs": [
    {
     "data": {
      "text/plain": [
       "0    홍길동\n",
       "1    성춘향\n",
       "2    박문수\n",
       "Name: 이름, dtype: object"
      ]
     },
     "execution_count": 131,
     "metadata": {},
     "output_type": "execute_result"
    }
   ],
   "source": [
    "df3['이름']"
   ]
  },
  {
   "cell_type": "code",
   "execution_count": 134,
   "id": "792d343f",
   "metadata": {},
   "outputs": [],
   "source": [
    "# DataFrame을 csv파일로 저장\n",
    "df3.to_csv('score.csv',header='False')"
   ]
  },
  {
   "cell_type": "code",
   "execution_count": 135,
   "id": "47bb31a0",
   "metadata": {
    "scrolled": true
   },
   "outputs": [
    {
     "name": "stdout",
     "output_type": "stream",
     "text": [
      "         학번   이름  중간고사  기말고사\n",
      "0  20201101  홍길동    90   100\n",
      "1  20201102  성춘향    95    95\n",
      "2  20201103  박문수    90    90\n"
     ]
    }
   ],
   "source": [
    "# csv파일을 dataframe으로 읽어오기\n",
    "df4=pd.read_csv('score.csv',encoding='utf-8',index_col=0, engine='python')\n",
    "print(df4)"
   ]
  },
  {
   "cell_type": "code",
   "execution_count": null,
   "id": "c7e2a7d6",
   "metadata": {},
   "outputs": [],
   "source": []
  },
  {
   "cell_type": "code",
   "execution_count": null,
   "id": "1fde85cf",
   "metadata": {},
   "outputs": [],
   "source": []
  },
  {
   "cell_type": "code",
   "execution_count": null,
   "id": "f6ed8753",
   "metadata": {},
   "outputs": [],
   "source": []
  },
  {
   "cell_type": "code",
   "execution_count": null,
   "id": "2aa34eb2",
   "metadata": {},
   "outputs": [],
   "source": []
  },
  {
   "cell_type": "code",
   "execution_count": null,
   "id": "e8c0d43d",
   "metadata": {},
   "outputs": [],
   "source": []
  },
  {
   "cell_type": "code",
   "execution_count": null,
   "id": "61af0f44",
   "metadata": {},
   "outputs": [],
   "source": []
  },
  {
   "cell_type": "code",
   "execution_count": null,
   "id": "86d4ca44",
   "metadata": {},
   "outputs": [],
   "source": []
  },
  {
   "cell_type": "code",
   "execution_count": null,
   "id": "042177b9",
   "metadata": {},
   "outputs": [],
   "source": []
  },
  {
   "cell_type": "code",
   "execution_count": null,
   "id": "23130a5a",
   "metadata": {},
   "outputs": [],
   "source": []
  },
  {
   "cell_type": "code",
   "execution_count": null,
   "id": "90c004ac",
   "metadata": {},
   "outputs": [],
   "source": []
  },
  {
   "cell_type": "code",
   "execution_count": null,
   "id": "b22d8ad3",
   "metadata": {},
   "outputs": [],
   "source": []
  },
  {
   "cell_type": "code",
   "execution_count": null,
   "id": "ad3de20a",
   "metadata": {},
   "outputs": [],
   "source": []
  },
  {
   "cell_type": "code",
   "execution_count": null,
   "id": "0895f293",
   "metadata": {},
   "outputs": [],
   "source": []
  },
  {
   "cell_type": "code",
   "execution_count": null,
   "id": "43ce72f0",
   "metadata": {},
   "outputs": [],
   "source": []
  },
  {
   "cell_type": "code",
   "execution_count": null,
   "id": "00fe3f90",
   "metadata": {},
   "outputs": [],
   "source": []
  },
  {
   "cell_type": "code",
   "execution_count": null,
   "id": "d461eaba",
   "metadata": {},
   "outputs": [],
   "source": []
  },
  {
   "cell_type": "code",
   "execution_count": null,
   "id": "dfc68bac",
   "metadata": {},
   "outputs": [],
   "source": [
    "'''7.14'''"
   ]
  },
  {
   "cell_type": "code",
   "execution_count": null,
   "id": "0b44072b",
   "metadata": {},
   "outputs": [],
   "source": []
  },
  {
   "cell_type": "code",
   "execution_count": null,
   "id": "1ffb8761",
   "metadata": {},
   "outputs": [],
   "source": []
  },
  {
   "cell_type": "code",
   "execution_count": 1,
   "id": "ed761913",
   "metadata": {},
   "outputs": [
    {
     "name": "stdout",
     "output_type": "stream",
     "text": [
      "Collecting matplotlib\n",
      "  Downloading matplotlib-3.4.2-cp39-cp39-win_amd64.whl (7.1 MB)\n",
      "Collecting pillow>=6.2.0\n",
      "  Downloading Pillow-8.3.1-1-cp39-cp39-win_amd64.whl (3.2 MB)\n",
      "Requirement already satisfied: pyparsing>=2.2.1 in c:\\developer\\python39\\lib\\site-packages (from matplotlib) (2.4.7)\n",
      "Requirement already satisfied: python-dateutil>=2.7 in c:\\developer\\python39\\lib\\site-packages (from matplotlib) (2.8.1)\n",
      "Requirement already satisfied: numpy>=1.16 in c:\\developer\\python39\\lib\\site-packages (from matplotlib) (1.21.0)\n",
      "Collecting cycler>=0.10\n",
      "  Downloading cycler-0.10.0-py2.py3-none-any.whl (6.5 kB)\n",
      "Collecting kiwisolver>=1.0.1\n",
      "  Downloading kiwisolver-1.3.1-cp39-cp39-win_amd64.whl (51 kB)\n",
      "Requirement already satisfied: six in c:\\developer\\python39\\lib\\site-packages (from cycler>=0.10->matplotlib) (1.16.0)\n",
      "Installing collected packages: pillow, kiwisolver, cycler, matplotlib\n",
      "Successfully installed cycler-0.10.0 kiwisolver-1.3.1 matplotlib-3.4.2 pillow-8.3.1\n"
     ]
    }
   ],
   "source": [
    "'''시각화 라이브러리\n",
    "matplotlib : 시각화 visualization를 파이썬 모듈\n",
    "설치 : !pip install matplotlib'''\n",
    "!pip install matplotlib"
   ]
  },
  {
   "cell_type": "code",
   "execution_count": 17,
   "id": "436e620d",
   "metadata": {},
   "outputs": [],
   "source": [
    "# 모듈 import\n",
    "import matplotlib.pyplot as plt"
   ]
  },
  {
   "cell_type": "code",
   "execution_count": 14,
   "id": "eee820d5",
   "metadata": {},
   "outputs": [],
   "source": [
    "# figure : 그래프를 그려주기 위한 전체 영역\n",
    "# plot : 그래프 자체"
   ]
  },
  {
   "cell_type": "code",
   "execution_count": 38,
   "id": "cd318485",
   "metadata": {
    "scrolled": true
   },
   "outputs": [
    {
     "data": {
      "image/png": "[encoded data removed]",
      "text/plain": [
       "<Figure size 432x288 with 1 Axes>"
      ]
     },
     "metadata": {
      "needs_background": "light"
     },
     "output_type": "display_data"
    }
   ],
   "source": [
    "#  하나만할때는 y 값 , 두개를 쓸때는 x , y값\n",
    "plt.plot([1,2,3,4],[1,2,3,4],'ro') #[x값리스트,y값리스트] \n",
    "                                   #'r'색 'o'형태\n",
    "plt.ylabel('score')\n",
    "plt.xlabel('x-lavel')\n",
    "plt.show()"
   ]
  },
  {
   "cell_type": "code",
   "execution_count": 55,
   "id": "0b858034",
   "metadata": {},
   "outputs": [
    {
     "name": "stdout",
     "output_type": "stream",
     "text": [
      "[0.  0.2 0.4 0.6 0.8 1.  1.2 1.4 1.6 1.8 2.  2.2 2.4 2.6 2.8 3.  3.2 3.4\n",
      " 3.6 3.8 4.  4.2 4.4 4.6 4.8]\n"
     ]
    },
    {
     "data": {
      "image/png": "[encoded data removed]",
      "text/plain": [
       "<Figure size 432x288 with 1 Axes>"
      ]
     },
     "metadata": {
      "needs_background": "light"
     },
     "output_type": "display_data"
    }
   ],
   "source": [
    "import matplotlib.pyplot as plt\n",
    "import numpy as np\n",
    "\n",
    "t = np.arange(0.,5.,0.2)\n",
    "print(t)\n",
    "plt.axis([0,10,1,200])\n",
    "plt.plot(t,t,'r--',t,t*2,'bs',t,t**3,'g^')\n",
    "plt.show()"
   ]
  },
  {
   "cell_type": "code",
   "execution_count": 63,
   "id": "4d2504fd",
   "metadata": {},
   "outputs": [
    {
     "data": {
      "image/png": "[encoded data removed]",
      "text/plain": [
       "<Figure size 432x288 with 4 Axes>"
      ]
     },
     "metadata": {
      "needs_background": "light"
     },
     "output_type": "display_data"
    }
   ],
   "source": [
    "# figure & plot\n",
    "\n",
    "import matplotlib.pyplot as plt\n",
    "\n",
    "figure = plt.figure()\n",
    "plot1 = figure.add_subplot(2,2,1) # figure 행의갯수, 열의갯수, 일련번호\n",
    "plot2 = figure.add_subplot(2,2,2)\n",
    "plot3 = figure.add_subplot(2,2,3)\n",
    "plot4 = figure.add_subplot(2,2,4)\n",
    "\n",
    "plot1.plot([0,2])\n",
    "plot2.plot([1,1])\n",
    "plot3.plot([2,0])\n",
    "plot4.plot([1,2])\n",
    "\n",
    "plt.show()"
   ]
  },
  {
   "cell_type": "code",
   "execution_count": 82,
   "id": "54696a16",
   "metadata": {},
   "outputs": [
    {
     "data": {
      "image/png": "[encoded data removed]",
      "text/plain": [
       "<Figure size 432x288 with 1 Axes>"
      ]
     },
     "metadata": {
      "needs_background": "light"
     },
     "output_type": "display_data"
    }
   ],
   "source": [
    "figure = plt.figure()\n",
    "plot1 = figure.add_subplot(1,1,1)\n",
    "x = [0,2,4,6]\n",
    "y = [0,4,0,2]\n",
    "plot1.bar(x,y)\n",
    "plot1.plot(x,y)\n",
    "plot1.grid(True, axis='y', color='red', alpha=0.5, linestyle='--')\n",
    "\n",
    "plt.show()"
   ]
  },
  {
   "cell_type": "code",
   "execution_count": 89,
   "id": "8a4e31db",
   "metadata": {},
   "outputs": [
    {
     "data": {
      "image/png": "[encoded data removed]",
      "text/plain": [
       "<Figure size 432x288 with 1 Axes>"
      ]
     },
     "metadata": {
      "needs_background": "light"
     },
     "output_type": "display_data"
    }
   ],
   "source": [
    "import matplotlib.pyplot as plt\n",
    "import numpy as np\n",
    "\n",
    "np.random.seed(19680801)    # Reproducible random state\n",
    "\n",
    "N = 100\n",
    "x = np.random.rand(N)\n",
    "y = np.random.rand(N)\n",
    "colors = np.random.rand(N)\n",
    "area = (30 * np.random.rand(N))**2\n",
    "\n",
    "plt.scatter(x, y, s=area, c=colors, alpha=0.5)\n",
    "plt.show()\n"
   ]
  },
  {
   "cell_type": "code",
   "execution_count": 90,
   "id": "27060413",
   "metadata": {},
   "outputs": [
    {
     "data": {
      "image/png": "[encoded data removed]",
      "text/plain": [
       "<Figure size 432x432 with 1 Axes>"
      ]
     },
     "metadata": {
      "needs_background": "light"
     },
     "output_type": "display_data"
    }
   ],
   "source": [
    "from mpl_toolkits.mplot3d import Axes3D\n",
    "import matplotlib.pyplot as plt\n",
    "import numpy as np\n",
    "\n",
    "n = 100\n",
    "xmin, xmax, ymin, ymax, zmin, zmax = 0, 20, 0, 20, 0, 50\n",
    "cmin, cmax = 0, 2\n",
    "xs = np.array([(xmax - xmin) * np.random.random_sample() + xmin for i in range(n)])\n",
    "ys = np.array([(ymax - ymin) * np.random.random_sample() + ymin for i in range(n)])\n",
    "zs = np.array([(zmax - zmin) * np.random.random_sample() + zmin for i in range(n)])\n",
    "color = np.array([(cmax - cmin) * np.random.random_sample() + cmin for i in range(n)])\n",
    "\n",
    "plt.rcParams[\"figure.figsize\"] = (6, 6)\n",
    "fig = plt.figure()\n",
    "ax = fig.add_subplot(111, projection='3d')\n",
    "ax.scatter(xs, ys, zs, c=color, marker='o', s=15, cmap='Greens')\n",
    "plt.show()"
   ]
  },
  {
   "cell_type": "code",
   "execution_count": null,
   "id": "e6b577d5",
   "metadata": {},
   "outputs": [],
   "source": []
  }
 ],
 "metadata": {
  "kernelspec": {
   "display_name": "Python 3",
   "language": "python",
   "name": "python3"
  },
  "language_info": {
   "codemirror_mode": {
    "name": "ipython",
    "version": 3
   },
   "file_extension": ".py",
   "mimetype": "text/x-python",
   "name": "python",
   "nbconvert_exporter": "python",
   "pygments_lexer": "ipython3",
   "version": "3.8.8"
  }
 },
 "nbformat": 4,
 "nbformat_minor": 5
}
